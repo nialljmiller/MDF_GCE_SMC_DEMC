{
 "cells": [
  {
   "cell_type": "markdown",
   "metadata": {},
   "source": [
    "# GCE Lab 2 - Solar Composition - Stellar Yields and Isotopes"
   ]
  },
  {
   "cell_type": "markdown",
   "metadata": {},
   "source": [
    "In this notebook, you will analyze the contributions of three enrichment sources on the isotopic composition of the Sun:\n",
    "* Massive stars ( > 8-10 M$_\\odot$) - Stellar winds and core-collapse explosions,\n",
    "* Low-mass asymptotic-giant-branch (AGB) stars ( < 8-10 M$_\\odot$),\n",
    "* Type Ia supernovae (SNe Ia) - Exploding white dwarfs, which are the remnant of low-mass stars.\n",
    "\n",
    "You will be able to change the stellar yields for AGB and massive stars.\n",
    "* **Option 1**\n",
    "    * AGB and massive stars: [Ritter et al. (2018, NuGrid)](https://ui.adsabs.harvard.edu/abs/2018MNRAS.480..538R/abstract)\n",
    "    \n",
    "    \n",
    "* **Option 2**\n",
    "    * AGB stars: [Cristallo et al. (2015)](https://ui.adsabs.harvard.edu/abs/2015ApJS..219...40C/abstract)\n",
    "    * Massive stars: [Limongi & Chieffi (2018)](https://ui.adsabs.harvard.edu/abs/2018ApJS..237...13L/abstract), mix of rotation velocities\n",
    "    \n",
    "    \n",
    "* **Option 3**\n",
    "    * AGB stars: [Cristallo et al. (2015)](https://ui.adsabs.harvard.edu/abs/2015ApJS..219...40C/abstract)\n",
    "    * Massive stars: [Nomoto et al. (2013)](https://ui.adsabs.harvard.edu/abs/2013ARA%26A..51..457N/abstract)\n",
    "\n",
    "\n",
    "* All SN Ia yields are from [Iwamoto et al. (1999)](https://ui.adsabs.harvard.edu/abs/1999ApJS..125..439I/abstract)"
   ]
  },
  {
   "cell_type": "code",
   "execution_count": 1,
   "metadata": {},
   "outputs": [],
   "source": [
    "# Import the standard Python packages\n",
    "import copy\n",
    "import matplotlib\n",
    "import matplotlib.pyplot as plt\n",
    "import numpy as np\n",
    "\n",
    "# Two-zone galactic chemical evolution code\n",
    "import JINAPyCEE.omega_plus as omega_plus\n",
    "\n",
    "# Run scripts for this notebook\n",
    "%run script_solar_ab.py\n",
    "kwargs[\"ns_merger_on\"] = False\n",
    "kwargs[\"imf_yields_range\"] = [1.0, 40.0]\n",
    "\n",
    "# Matplotlib option\n",
    "%matplotlib inline"
   ]
  },
  {
   "cell_type": "markdown",
   "metadata": {},
   "source": [
    "## Run GCE code"
   ]
  },
  {
   "cell_type": "code",
   "execution_count": 2,
   "metadata": {},
   "outputs": [
    {
     "name": "stdout",
     "output_type": "stream",
     "text": [
      "Using yield_tables/agb_and_massive_stars_nugrid_MESAonly_fryer12delay.txt\n",
      "OMEGA+ run in progress..\n",
      "OMEGA run in progress..\n",
      "   OMEGA run completed - Run time: 2.01s\n",
      "   OMEGA+ run completed - Run time: 2.57s\n"
     ]
    }
   ],
   "source": [
    "# \\\\\\\\\\\\\\\\\\\\ Modify below \\\\\\\\\\\\\\\\\\\\\\\\\n",
    "# ====================================\n",
    "\n",
    "# Choose one yield option (uncomment one \"kwargs[\"table\"]\" line)\n",
    "\n",
    "# NuGrid (Ritter et al. 2018) for both AGB and massive stars\n",
    "kwargs[\"table\"] = \"yield_tables/agb_and_massive_stars_nugrid_MESAonly_fryer12delay.txt\"\n",
    "\n",
    "# Cristallo et al. (2015) for AGB stars\n",
    "# Limongi & Chieffi (2018) for massive stars\n",
    "#kwargs[\"table\"] = \"yield_tables/agb_and_massive_stars_C15_LC18_R_mix.txt\"\n",
    "\n",
    "# Cristallo et al. (2015) for AGB stars\n",
    "# Nomoto et al. (2013) for massive stars\n",
    "#kwargs[\"table\"] = \"yield_tables/agb_and_massive_stars_C15_N13_0_5_HNe.txt\"\n",
    "\n",
    "# ====================================\n",
    "# ////////// Modify above ////////////\n",
    "\n",
    "# Run the GCE code OMEGA+\n",
    "print(\"Using\", kwargs[\"table\"])\n",
    "op = omega_plus.omega_plus(**kwargs)\n",
    "\n",
    "# Get the timestep where the metallicity is close to Solar\n",
    "if kwargs[\"table\"] == \"yield_tables/agb_and_massive_stars_nugrid_MESAonly_fryer12delay.txt\":\n",
    "    ii_Sun = i_t_Sun + 5\n",
    "else:\n",
    "    ii_Sun = copy.deepcopy(i_t_Sun)"
   ]
  },
  {
   "cell_type": "markdown",
   "metadata": {},
   "source": [
    "## Plot the Isotopic Contributions"
   ]
  },
  {
   "cell_type": "markdown",
   "metadata": {},
   "source": [
    "The plot below is normalized to the Solar composition of [Asplund et al. (2009)](https://ui.adsabs.harvard.edu/abs/2009ARA%26A..47..481A/abstract). If the numerical predictions are above 1.0, they overestimate the abundance derived for the Sun. If they are lower, they underestimate."
   ]
  },
  {
   "cell_type": "code",
   "execution_count": 3,
   "metadata": {},
   "outputs": [
    {
     "data": {
      "text/plain": [
       "Text(0, 0.5, 'X / X$_\\\\odot$')"
      ]
     },
     "execution_count": 3,
     "metadata": {},
     "output_type": "execute_result"
    },
    {
     "data": {
      "image/png": "[encoded data removed]",
      "text/plain": [
       "<Figure size 576x360 with 1 Axes>"
      ]
     },
     "metadata": {
      "needs_background": "light"
     },
     "output_type": "display_data"
    }
   ],
   "source": [
    "# \\\\\\\\\\\\\\\\\\\\ Modify below \\\\\\\\\\\\\\\\\\\\\\\\\n",
    "# ====================================\n",
    "\n",
    "# Select the isotopes you want to analyze\n",
    "# It can also be a mix of isotopes and elements\n",
    "# Example 1: species = [\"C-12\", \"O-16\", Fe-56\"]\n",
    "# Example 2: species = [\"C-12\", \"C-13\", \"C\", \"Si-28\"]\n",
    "species = [\"C-12\", \"O-16\", \"Fe-56\", \"Zr-94\"]\n",
    "\n",
    "# ====================================\n",
    "# ////////// Modify above ////////////\n",
    "\n",
    "# Set the figure size\n",
    "fig = plt.figure(figsize=(8,5.0))\n",
    "matplotlib.rcParams.update({'font.size': 16.0})\n",
    "\n",
    "# Plot contributions\n",
    "op.inner.mass_frac_plot(species=species, cycle=ii_Sun, yscale=\"linear\")\n",
    "\n",
    "# Increase size labels\n",
    "plt.title(\"\")\n",
    "ax = plt.gca()\n",
    "for tick in ax.xaxis.get_major_ticks():\n",
    "    tick.label.set_fontsize(18)\n",
    "plt.ylabel(\"X / X$_\\odot$\", fontsize=18)"
   ]
  },
  {
   "cell_type": "markdown",
   "metadata": {},
   "source": [
    "* If predictions **reach 1** on the y axis, you reproduced the Solar abundance for that isotope or element.\n",
    "* If predictions are **above 1** on the y axis, you synthesized too much.\n",
    "* If predictions are **below 1** on the y axis, you did not synthesize enough."
   ]
  },
  {
   "cell_type": "markdown",
   "metadata": {},
   "source": [
    "## Exercise"
   ]
  },
  {
   "cell_type": "markdown",
   "metadata": {},
   "source": [
    "* Explore different isotopes and look at the impact of using different yields tables. Stellar yields are a fundamental source of uncertainties in chemical evolution studies."
   ]
  },
  {
   "cell_type": "code",
   "execution_count": null,
   "metadata": {},
   "outputs": [],
   "source": []
  }
 ],
 "metadata": {
  "kernelspec": {
   "display_name": "Python 3",
   "language": "python",
   "name": "python3"
  },
  "language_info": {
   "codemirror_mode": {
    "name": "ipython",
    "version": 3
   },
   "file_extension": ".py",
   "mimetype": "text/x-python",
   "name": "python",
   "nbconvert_exporter": "python",
   "pygments_lexer": "ipython3",
   "version": "3.9.1"
  }
 },
 "nbformat": 4,
 "nbformat_minor": 2
}
