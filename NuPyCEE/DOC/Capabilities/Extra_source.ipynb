{
 "cells": [
  {
   "cell_type": "markdown",
   "metadata": {},
   "source": [
    "# Demonstration of extra source capabilties."
   ]
  },
  {
   "cell_type": "markdown",
   "metadata": {},
   "source": [
    "Created by Christian Ritter"
   ]
  },
  {
   "cell_type": "code",
   "execution_count": 2,
   "metadata": {},
   "outputs": [],
   "source": [
    "%matplotlib nbagg\n",
    "import matplotlib.pyplot as plt\n",
    "import sys\n",
    "import numpy as np\n",
    "import matplotlib\n",
    "from NuPyCEE import sygma as s\n",
    "from NuPyCEE import omega as o\n",
    "from NuPyCEE import stellab\n",
    "from NuPyCEE import read_yields as ry"
   ]
  },
  {
   "cell_type": "markdown",
   "metadata": {
    "collapsed": true
   },
   "source": [
    "### Setup with different f_extra_source factors. For each factor exists a separate list entry in the lists below."
   ]
  },
  {
   "cell_type": "code",
   "execution_count": 3,
   "metadata": {},
   "outputs": [],
   "source": [
    "# two factors are applied\n",
    "f_extra_source=[1.0,0.5]\n",
    "\n",
    "# yields come from these 2 tables (the same tables)\n",
    "extra_source_table=2*['yield_tables/extra_source.txt']\n",
    "\n",
    "\n",
    "# in which initial mass range are the factors applied?\n",
    "extra_source_mass_range = [[8,30],[22.5,30]]\n",
    "\n",
    "# at which Z (Z from yield input tables) are the factors NOT applied.\n",
    "extra_source_exclude_Z = [[0.01],[0.0001,0.001,0.006,0.02]] "
   ]
  },
  {
   "cell_type": "code",
   "execution_count": 4,
   "metadata": {},
   "outputs": [
    {
     "name": "stdout",
     "output_type": "stream",
     "text": [
      "OMEGA run in progress..\n",
      "   OMEGA run completed - Run time: 0.42s\n"
     ]
    }
   ],
   "source": [
    "# Initial metallicity\n",
    "iniZ = 0.0\n",
    "\n",
    "# 10% of all massive stars at all Z have shell merger yields\n",
    "o_NG_0_1 = o.omega(galaxy='milky_way', \\\n",
    "         special_timesteps=60, exp_ml=1.0, mass_frac_SSP=0.35, nb_1a_per_m=1.5e-3, DM_evolution=True, sfe=0.04,\\\n",
    "           t_sf_z_dep=0.3, mass_loading=1.02, iniZ=iniZ,\n",
    "          extra_source_on=True, extra_source_table=extra_source_table,extra_source_mass_range=extra_source_mass_range,\n",
    "           f_extra_source=f_extra_source,extra_source_exclude_Z=extra_source_exclude_Z)            "
   ]
  },
  {
   "cell_type": "code",
   "execution_count": null,
   "metadata": {
    "collapsed": true
   },
   "outputs": [],
   "source": []
  }
 ],
 "metadata": {
  "kernelspec": {
   "display_name": "Python 3",
   "language": "python",
   "name": "python3"
  },
  "language_info": {
   "codemirror_mode": {
    "name": "ipython",
    "version": 3
   },
   "file_extension": ".py",
   "mimetype": "text/x-python",
   "name": "python",
   "nbconvert_exporter": "python",
   "pygments_lexer": "ipython3",
   "version": "3.9.1"
  }
 },
 "nbformat": 4,
 "nbformat_minor": 1
}
