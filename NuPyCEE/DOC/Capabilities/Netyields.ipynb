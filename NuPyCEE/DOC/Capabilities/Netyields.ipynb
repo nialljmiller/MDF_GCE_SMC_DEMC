{
 "cells": [
  {
   "cell_type": "markdown",
   "metadata": {},
   "source": [
    "# Example on How to Use Net Yields"
   ]
  },
  {
   "cell_type": "markdown",
   "metadata": {},
   "source": [
    "Prepared by Christian Ritter"
   ]
  },
  {
   "cell_type": "code",
   "execution_count": 1,
   "metadata": {},
   "outputs": [],
   "source": [
    "%matplotlib nbagg\n",
    "import matplotlib.pyplot as plt\n",
    "import sys\n",
    "import matplotlib\n",
    "import numpy as np\n",
    "from NuPyCEE import sygma as s\n",
    "from NuPyCEE import omega as o\n",
    "from NuPyCEE import stellab\n",
    "from NuPyCEE import read_yields as ry"
   ]
  },
  {
   "cell_type": "code",
   "execution_count": 2,
   "metadata": {},
   "outputs": [],
   "source": [
    "table='yield_tables/agb_and_massive_stars_nugrid_MESAonly_fryer12delay.txt'"
   ]
  },
  {
   "cell_type": "markdown",
   "metadata": {},
   "source": [
    "#### Default setup - total yields"
   ]
  },
  {
   "cell_type": "code",
   "execution_count": 3,
   "metadata": {},
   "outputs": [
    {
     "name": "stdout",
     "output_type": "stream",
     "text": [
      "OMEGA run in progress..\n",
      "   OMEGA run completed - Run time: 0.42s\n"
     ]
    }
   ],
   "source": [
    "# Initial metallicity 0\n",
    "#includes pop3_table='yield_tables/popIII_heger10.txt',\n",
    "iniZ = 0.0\n",
    "\n",
    "# Original yields\n",
    "o_NG = o.omega(galaxy='milky_way', table=table, \\\n",
    "         special_timesteps=60, exp_ml=1.0, mass_frac_SSP=0.35, nb_1a_per_m=1.5e-3, DM_evolution=True, sfe=0.04,\\\n",
    "           t_sf_z_dep=0.3, mass_loading=1.02, iniZ=iniZ)"
   ]
  },
  {
   "cell_type": "markdown",
   "metadata": {},
   "source": [
    "#### Setup with total yields as input but net yields are calculated in the code and then applied"
   ]
  },
  {
   "cell_type": "code",
   "execution_count": 9,
   "metadata": {},
   "outputs": [
    {
     "name": "stdout",
     "output_type": "stream",
     "text": [
      "OMEGA run in progress..\n",
      "   OMEGA run completed - Run time: 0.4s\n"
     ]
    }
   ],
   "source": [
    "# Initial metallicity 0\n",
    "#includes pop3_table='yield_tables/popIII_heger10.txt',\n",
    "iniZ = 0.0\n",
    "\n",
    "#turn on net yield capability\n",
    "yield_interp='wiersma'\n",
    "\n",
    "#yield input not net yields\n",
    "netyields_on=False\n",
    "\n",
    "#should not matter\n",
    "wiersmamod=False\n",
    "\n",
    "Z_trans=-1\n",
    "\n",
    "# Original yields\n",
    "o_NG_net = o.omega(galaxy='milky_way', table=table, \\\n",
    "         special_timesteps=60, exp_ml=1.0, mass_frac_SSP=0.35, nb_1a_per_m=1.5e-3, DM_evolution=True, sfe=0.04,\\\n",
    "           t_sf_z_dep=0.3, mass_loading=1.02, iniZ=iniZ,yield_interp=yield_interp,netyields_on=netyields_on,\\\n",
    "             Z_trans=0.0)"
   ]
  },
  {
   "cell_type": "code",
   "execution_count": null,
   "metadata": {
    "collapsed": true
   },
   "outputs": [],
   "source": []
  }
 ],
 "metadata": {
  "kernelspec": {
   "display_name": "Python 3",
   "language": "python",
   "name": "python3"
  },
  "language_info": {
   "codemirror_mode": {
    "name": "ipython",
    "version": 3
   },
   "file_extension": ".py",
   "mimetype": "text/x-python",
   "name": "python",
   "nbconvert_exporter": "python",
   "pygments_lexer": "ipython3",
   "version": "3.9.1"
  }
 },
 "nbformat": 4,
 "nbformat_minor": 1
}
