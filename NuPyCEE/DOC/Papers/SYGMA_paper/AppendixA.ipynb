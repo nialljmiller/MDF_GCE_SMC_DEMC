{
 "cells": [
  {
   "cell_type": "markdown",
   "metadata": {
    "deletable": true,
    "editable": true
   },
   "source": [
    "# Figures of AppendixA of the SYGMA paper"
   ]
  },
  {
   "cell_type": "code",
   "execution_count": null,
   "metadata": {
    "collapsed": false,
    "deletable": true,
    "editable": true
   },
   "outputs": [],
   "source": [
    "import matplotlib\n",
    "import matplotlib.pyplot as plt\n",
    "import numpy as np\n",
    "import sygma as s\n",
    "import os\n",
    "print (s.__file__)\n",
    "%matplotlib inline"
   ]
  },
  {
   "cell_type": "code",
   "execution_count": null,
   "metadata": {
    "collapsed": false,
    "deletable": true,
    "editable": true
   },
   "outputs": [],
   "source": [
    "%run read_wiersma_figures"
   ]
  },
  {
   "cell_type": "code",
   "execution_count": null,
   "metadata": {
    "collapsed": true,
    "deletable": true,
    "editable": true
   },
   "outputs": [],
   "source": [
    "## Parameter for standard best fit\n",
    "iniZ_st=0.0126\n",
    "imf_type_st='chabrier'\n",
    "imf_bdys_st=[0.1,100] #based on paper p. 18 (and tests on p.19)\n",
    "imf_yields_range_st=[0.8,100]  #0.8 based on calculations in paper p.19, paper uses 40Msun but then messses up plots, 100Msun good agreement.\n",
    "sn1a_rate_st='exp' #based on paper .p. 23\n",
    "exp_dtd_st=2e9  #based on paper p. 23\n",
    "direct_norm_1a_st=0.02 #0.016 #better fit #0.02, #based on paper p. 23 (a parameter, see also p22)\n",
    "dt_st=7e6\n",
    "transitionmass_st=8 #6.8 #chosen to match the AGB and massive star  intersection.\n",
    "yield_interp_st='wiersma' # means we correct for initial abundance as in wiersma (independent if yields are net yields or not.)\n",
    "netyields_on_st=True #tells the code we actual use tabula.ted net yields. \n",
    "wiersmamod_st=True\n",
    "table_st='yield_tables/agb_and_massive_stars_portinari98_marigo01_net_yields.txt'\n",
    "exclude_masses_st=[] #needs to be empty else 60Msun exlcuded!, cannot justify NOT to use 6,7Msun\n",
    "sn1a_table_st='yield_tables/sn1a_t03.txt'\n",
    "iniabu_table_st='yield_tables/iniabu/iniab_solar_Wiersma_iso.ppn'\n",
    "mgal_st = 1e4 #made to sygma.py defualt, #reasonable choice, high resolution of  mass of a particle ejected in a hydro simulation.\n",
    "hardsetZ = 0.02"
   ]
  },
  {
   "cell_type": "code",
   "execution_count": null,
   "metadata": {
    "collapsed": false,
    "deletable": true,
    "editable": true,
    "scrolled": false
   },
   "outputs": [],
   "source": [
    "s0=s.sygma(iolevel=0,iniZ=iniZ_st,imf_type=imf_type_st,\n",
    "           imf_bdys=imf_bdys_st, \n",
    "           imf_yields_range=imf_yields_range_st,\n",
    "           sn1a_rate=sn1a_rate_st, \n",
    "           exp_dtd=exp_dtd_st, \n",
    "           direct_norm_1a=direct_norm_1a_st, \n",
    "            dt=dt_st,\n",
    "           transitionmass=transitionmass_st,\n",
    "           yield_interp=yield_interp_st,\n",
    "           netyields_on=netyields_on_st,\n",
    "            wiersmamod=wiersmamod_st,\n",
    "           table=table_st, \\\n",
    "           exclude_masses=exclude_masses_st,\n",
    "           sn1a_table=sn1a_table_st,iniabu_table=iniabu_table_st,\\\n",
    "           hardsetZ=hardsetZ)"
   ]
  },
  {
   "cell_type": "markdown",
   "metadata": {
    "deletable": true,
    "editable": true
   },
   "source": [
    "## Fig. 9"
   ]
  },
  {
   "cell_type": "code",
   "execution_count": null,
   "metadata": {
    "collapsed": false,
    "deletable": true,
    "editable": true
   },
   "outputs": [],
   "source": [
    "#%matplotlib nbagg\n",
    "fign = 1\n",
    "markevery=5\n",
    "plt.close(2)\n",
    "props = dict(boxstyle='square', facecolor='w', alpha=1)\n",
    "f, axarr = plt.subplots(3, 2)\n",
    "elements=['Total','C','N','O','Si','Fe']\n",
    "for specie in elements:\n",
    "        specieW=specie\n",
    "        if specie=='Total':\n",
    "            plt.sca(axarr[0, 0])\n",
    "        if specie=='C':\n",
    "            plt.sca(axarr[0, 1])\n",
    "        elif specie=='N':\n",
    "            plt.sca(axarr[1, 0])\n",
    "        elif specie=='O':\n",
    "            plt.sca(axarr[1, 1])\n",
    "        elif specie=='Si':\n",
    "            plt.sca(axarr[2, 0])\n",
    "        elif specie=='Fe':\n",
    "            plt.sca(axarr[2, 1])\n",
    "        if not 'G-1' in elements and specie=='Total':\n",
    "            specieW='tot'\n",
    "            s0.plot_totmasses(fig=fign,source='agb',norm='current',color='b',\n",
    "                  label='AGB, Z=1e-4',shape='--',marker='x',log=False,markevery=markevery)\n",
    "            s0.plot_totmasses(fig=1,source='massive',norm='current',color='b',\n",
    "                  label='Massive, Z=1e-4',shape='-',marker='x',log=False,markevery=markevery)\n",
    "            s0.plot_totmasses(fig=fign,source='sn1a',norm='current',color='b',\n",
    "                  label='SN1a, Z=1e-4',shape=':',marker='x',log=False,markevery=markevery)   \n",
    "            [x,y]=getW(fig=2,specie=specieW,source='agb',Z=0.02)\n",
    "            plt.plot(x,y,color='r',linestyle='--')    \n",
    "            [x,y]=getW(fig=2,specie=specieW,source='massive',Z=0.02)\n",
    "            plt.plot(x,y,color='r')\n",
    "        else:\n",
    "            if specie=='G-1':\n",
    "                 specieW='tot'\n",
    "            s0.plot_mass(fig=fign,specie=specie,source='agb',norm='current',color='b',\n",
    "                     label=specie+' (AGB), Z=2e-2',shape='--',marker='x',markevery=markevery)\n",
    "            s0.plot_mass(fig=fign,specie=specie,source='massive',norm='current',color='b',\n",
    "                     label=specie+' (massive), Z=2e-2',shape='-',marker='x',markevery=markevery)\n",
    "            s0.plot_mass(fig=fign,specie=specie,source='sn1a',norm='current',color='b',\n",
    "                     label=specie+' (SN1a), Z=2e-2',shape=':',marker='x',markevery=markevery)\n",
    "            [x,y]=getW(fig=2,specie=specieW,source='agb',Z=0.02)\n",
    "            plt.plot(x,y,color='r',linestyle='--')    \n",
    "            [x,y]=getW(fig=2,specie=specieW,source='massive',Z=0.02)\n",
    "            plt.plot(x,y,color='r',linestyle='-')\n",
    "            if not specie in ['N','C','O','G-1']:\n",
    "                [x,y]=getW(fig=2,specie=specieW,source='sn1a',Z=0.02)\n",
    "            plt.plot(x,y,color='r',linestyle=':')  \n",
    "\n",
    "        ax=plt.gca()\n",
    "        ax.text(0.1, 0.85, specie, transform=ax.transAxes, fontsize=16,verticalalignment='top', bbox=props)                \n",
    "        ax.minorticks_on()\n",
    "        plt.title('')\n",
    "        plt.legend().set_visible(False)\n",
    "        if (specie=='N'):\n",
    "            ax.set_ylabel('Fraction of accumulated ejecta',size=16)\n",
    "        elif not ( ((specie=='Total') or ( specie=='N')) or ( specie=='Si')):\n",
    "            #ax.get_yaxis().set_ticklabels([]) #set_visible(False)\n",
    "            plt.ylabel('')\n",
    "        else:\n",
    "            plt.ylabel('')\n",
    "        if specie=='Total':\n",
    "            plt.plot([],[],marker='',linestyle='--',color='k',label='AGB',linewidth=3)\n",
    "            plt.plot([],[],marker='',linestyle='-',color='k',label='Massive',linewidth=3)\n",
    "            plt.plot([],[],marker='',linestyle=':',color='k',label='SNIa',linewidth=3)            \n",
    "            l2=ax.lines[-3:]\n",
    "            leg=plt.legend(l2,('AGB','Massive','SNIa'),loc=6,prop={'size': 14})\n",
    "            leg.set_visible(True)\n",
    "            leg.get_frame().set_edgecolor('k')\n",
    "            leg.get_frame().set_alpha(1.)\n",
    "        if specie in ['Total','C','N','O']:\n",
    "            ax.get_xaxis().set_ticklabels([])\n",
    "            plt.xlabel('')\n",
    "        else:\n",
    "            plt.xlabel('SSP age [yr]',size=16)\n",
    "        plt.ylim(0,1)\n",
    "#general settings\n",
    "#plt.subplots_adjust(hspace=0.1, bottom=0.125,wspace=0.05,left=0.05,right=0.95)\n",
    "plt.subplots_adjust(hspace=0.1, bottom=0.125,wspace=0.15,left=0.1,right=0.9)\n",
    "fig=plt.gcf()        \n",
    "fig.set_size_inches(14,10,forward=True) #figsize=(6, 4)\n",
    "#plt.tight_layout()\n",
    "\n",
    "matplotlib.rcParams.update({'font.size': 16})"
   ]
  },
  {
   "cell_type": "code",
   "execution_count": null,
   "metadata": {
    "collapsed": false,
    "deletable": true,
    "editable": true,
    "scrolled": false
   },
   "outputs": [],
   "source": [
    "s1=s.sygma(iolevel=0,iniZ=iniZ_st,imf_type=imf_type_st,\n",
    "           imf_bdys=imf_bdys_st, \n",
    "           imf_yields_range=imf_yields_range_st,\n",
    "           sn1a_rate=sn1a_rate_st, \n",
    "           exp_dtd=exp_dtd_st, \n",
    "           direct_norm_1a=direct_norm_1a_st, \n",
    "            dt=dt_st,\n",
    "           transitionmass=7.5,\n",
    "           yield_interp=yield_interp_st,\n",
    "           netyields_on=netyields_on_st,\n",
    "            wiersmamod=wiersmamod_st,\n",
    "           table=table_st, \\\n",
    "           exclude_masses=exclude_masses_st,\n",
    "           sn1a_table=sn1a_table_st,iniabu_table=iniabu_table_st,\\\n",
    "           hardsetZ=hardsetZ)\n",
    "\n",
    "s2=s.sygma(iolevel=0,iniZ=iniZ_st,imf_type=imf_type_st,\n",
    "           imf_bdys=imf_bdys_st, \n",
    "           imf_yields_range=imf_yields_range_st,\n",
    "           sn1a_rate=sn1a_rate_st, \n",
    "           exp_dtd=exp_dtd_st, \n",
    "           direct_norm_1a=direct_norm_1a_st, \n",
    "            dt=dt_st,\n",
    "           transitionmass=8.5,\n",
    "           yield_interp=yield_interp_st,\n",
    "           netyields_on=netyields_on_st,\n",
    "            wiersmamod=wiersmamod_st,\n",
    "           table=table_st, \\\n",
    "           exclude_masses=exclude_masses_st,\n",
    "           sn1a_table=sn1a_table_st,iniabu_table=iniabu_table_st,\\\n",
    "           hardsetZ=hardsetZ)"
   ]
  },
  {
   "cell_type": "markdown",
   "metadata": {
    "deletable": true,
    "editable": true
   },
   "source": [
    "## Fig. 10"
   ]
  },
  {
   "cell_type": "code",
   "execution_count": null,
   "metadata": {
    "collapsed": false,
    "deletable": true,
    "editable": true
   },
   "outputs": [],
   "source": [
    "fign = fign + 1\n",
    "figW=2\n",
    "fig=plt.figure(fign)\n",
    "ax=plt.gca()\n",
    "\n",
    "Z=0.02\n",
    "specie='tot'\n",
    "[age,y_agb]=getW(fig=figW,specie=specie,source='agb',Z=Z)\n",
    "l1,=ax.plot(age,y_agb,color='r',linestyle='--',linewidth=4,label='AGB, W09')\n",
    "[age,y_massive]=getW(fig=figW,specie=specie,source='massive',Z=Z)\n",
    "l2,=ax.plot(age,y_massive,color='r',linestyle='-',linewidth=4,label='Massive, W09')\n",
    "#ax.add_artist(leg)\n",
    "\n",
    "leg=ax.legend(loc=1,fontsize=17)\n",
    "leg.get_frame().set_edgecolor('k')\n",
    "leg.get_frame().set_alpha(1.)\n",
    "\n",
    "s2.plot_totmasses(fig=fign,source='agb',color='g',shape='--',norm='current',fsize=[10,6],marker='s')\n",
    "s2.plot_totmasses(fig=fign,source='massive',color='g',shape='-',norm='current',fsize=[10,6],marker='o')  \n",
    "s0.plot_totmasses(fig=fign,source='agb',color='k',shape='--',norm='current',fsize=[10,6],marker='^')\n",
    "s0.plot_totmasses(fig=fign,source='massive',color='k',shape='-',norm='current',fsize=[10,6],marker='>')      \n",
    "s1.plot_totmasses(fig=fign,source='agb',color='b',shape='--',norm='current',fsize=[10,6],marker='+')\n",
    "s1.plot_totmasses(fig=fign,source='massive',color='b',shape='-',norm='current',fsize=[10,6],marker='x')    \n",
    "\n",
    "\n",
    "plt.yscale('linear')\n",
    "plt.ylabel('IMF-weighted fraction of the ejecta')\n",
    "plt.title('')\n",
    "\n",
    "ax.minorticks_on()\n",
    "l2=ax.lines[2:]\n",
    "ax.add_artist(leg)\n",
    "leg=ax.legend(l2,('AGB, '+str(s2.transitionmass)+'M$_{\\odot}$','Massive, '+str(s2.transitionmass)+'M$_{\\odot}$',\n",
    "                       'AGB, '+str(s0.transitionmass)+'M$_{\\odot}$','Massive, '+str(s0.transitionmass)+'M$_{\\odot}$',\n",
    "                        'AGB, '+str(s1.transitionmass)+'M$_{\\odot}$','Massive, '+str(s1.transitionmass)+'M$_{\\odot}$')\n",
    "                       ,loc=6,prop={'size': 13})\n",
    "leg.get_frame().set_edgecolor('k')\n",
    "leg.get_frame().set_alpha(1.)\n",
    "\n",
    "ax.set_ylim(0,1)\n",
    "fig.set_size_inches(8,5,forward=True)\n",
    "plt.tight_layout()\n",
    "plt.xlim(2e6,13e9)\n",
    "\n",
    "plt.ylabel('Fraction of accumulated ejecta', fontsize=19)\n",
    "plt.xlabel('SSP age [yr]', fontsize=19)\n",
    "\n",
    "fig=plt.gcf();\n",
    "leg=plt.legend(loc=6,fontsize=17)\n",
    "leg.get_frame().set_edgecolor('k')\n",
    "leg.get_frame().set_alpha(1.)\n",
    "plt.tight_layout()\n",
    "fig.set_size_inches(8,6,forward=True)       \n",
    "plt.subplots_adjust(hspace=0.1, bottom=0.225, wspace=0.05,left=0.15,right=0.9)\n",
    "\n",
    "matplotlib.rcParams.update({'font.size': 19})"
   ]
  },
  {
   "cell_type": "code",
   "execution_count": null,
   "metadata": {
    "collapsed": true
   },
   "outputs": [],
   "source": []
  }
 ],
 "metadata": {
  "kernelspec": {
   "display_name": "Python 3",
   "language": "python",
   "name": "python3"
  },
  "language_info": {
   "codemirror_mode": {
    "name": "ipython",
    "version": 3
   },
   "file_extension": ".py",
   "mimetype": "text/x-python",
   "name": "python",
   "nbconvert_exporter": "python",
   "pygments_lexer": "ipython3",
   "version": "3.4.8"
  }
 },
 "nbformat": 4,
 "nbformat_minor": 0
}
