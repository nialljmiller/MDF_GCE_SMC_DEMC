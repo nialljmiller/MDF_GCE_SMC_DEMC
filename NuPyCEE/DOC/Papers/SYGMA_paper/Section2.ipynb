{
 "cells": [
  {
   "cell_type": "markdown",
   "metadata": {
    "deletable": true,
    "editable": true
   },
   "source": [
    "# Figures for section 2 of the SYGMA paper"
   ]
  },
  {
   "cell_type": "code",
   "execution_count": null,
   "metadata": {
    "collapsed": false,
    "deletable": true,
    "editable": true
   },
   "outputs": [],
   "source": [
    "#%matplotlib nbagg\n",
    "import matplotlib.pyplot as plt\n",
    "import sys\n",
    "import sygma as s\n",
    "import numpy as np\n",
    "print (s.global_path)\n",
    "import matplotlib\n",
    "%matplotlib inline\n",
    "fign=0"
   ]
  },
  {
   "cell_type": "code",
   "execution_count": null,
   "metadata": {
    "collapsed": false,
    "deletable": true,
    "editable": true,
    "scrolled": false
   },
   "outputs": [],
   "source": [
    "s1=s.sygma(iniZ=0.02,\n",
    "           #table='yield_tables/isotope_yield_table_MESA_only_fryer12_delay.txt',\n",
    "           stellar_param_table='yield_tables/stellar_feedback_nugrid_MESAonly.txt',\n",
    "           mgal=1.0,special_timesteps=200,dt=1e6,exclude_masses=[],stellar_param_on=True,\n",
    "           table='yield_tables/agb_and_massive_stars_nugrid_MESAonly_fryer12delay.txt',\n",
    "           sn1a_energy=1e51,nb_1a_per_m = 3.0e-3)"
   ]
  },
  {
   "cell_type": "markdown",
   "metadata": {
    "deletable": true,
    "editable": true
   },
   "source": [
    "## Fig. 1"
   ]
  },
  {
   "cell_type": "code",
   "execution_count": null,
   "metadata": {
    "collapsed": false,
    "deletable": true,
    "editable": true,
    "scrolled": false
   },
   "outputs": [],
   "source": [
    "fign = fign + 1\n",
    "f, axarr = plt.subplots(2, 2,num=fign)\n",
    "markevery=50\n",
    "props = dict(boxstyle='square', facecolor='w', alpha=1)\n",
    "for specie in ['Total','Ele','Ele_all','Iso_all']:\n",
    "        if specie=='Total':\n",
    "            plt.sca(axarr[0, 0])\n",
    "        if specie=='Ele':\n",
    "            plt.sca(axarr[0, 1])\n",
    "        elif specie=='Ele_all':\n",
    "            plt.sca(axarr[1, 0])\n",
    "        elif specie=='Iso_all':\n",
    "            plt.sca(axarr[1, 1])    \n",
    "        ax=plt.gca()\n",
    "        if specie == 'Total':\n",
    "            markevery=8            \n",
    "            s1.plot_totmasses(fig=fign,source='all',label='Total',markevery=markevery,color='k',marker='*')\n",
    "            s1.plot_totmasses(fig=fign,source='agb',markevery=markevery,color='r',marker='^')\n",
    "            s1.plot_totmasses(fig=fign,source='massive',markevery=markevery,color='r',marker='D')\n",
    "            s1.plot_totmasses(fig=fign,source='sn1a',markevery=markevery+5,color='b',marker='o')         \n",
    "            leg=plt.legend(loc=4,fontsize=12)\n",
    "            leg.get_frame().set_edgecolor('k')\n",
    "            leg.get_frame().set_alpha(1.)\n",
    "            ax.get_xaxis().set_ticklabels([])\n",
    "            ax.set_xlabel('')     \n",
    "            ax.set_yticks([1e-4,1e-2,1e0])\n",
    "            ax.set_ylim(1e-4,1e0)\n",
    "            ax.set_ylabel('')\n",
    "        elif specie == 'Ele':\n",
    "            markevery=50\n",
    "            #why was that commented???\n",
    "            s1.plot_mass(fig=fign,specie='C',source='all',label='C, Total',markevery=markevery,color='r',marker='^')\n",
    "            s1.plot_mass(fig=fign,specie='C',source='agb',label='C, AGB',markevery=markevery,color='g',marker='^',shape=':')\n",
    "\n",
    "            s1.plot_mass(fig=fign,specie='O',source='all',label='O, Total',markevery=markevery,color='b',marker='D')\n",
    "            s1.plot_mass(fig=fign,specie='O',source='massive',label='O, Massive',markevery=markevery,color='k',marker='D',shape=':')\n",
    "\n",
    "            s1.plot_mass(fig=fign,specie='Fe',source='all',label='Fe, Total',markevery=markevery+5,color='m',marker='o')    \n",
    "            s1.plot_mass(fig=fign,specie='Fe',source='sn1a',markevery=markevery+5,label='Fe, SNIa',color='y',marker='o',shape=':')    \n",
    "            leg=plt.legend(loc=4,fontsize=12)\n",
    "            leg.get_frame().set_edgecolor('k')\n",
    "            leg.get_frame().set_alpha(1.)\n",
    "            plt.ylim(1e-4,1e-2)\n",
    "            ax.get_xaxis().set_ticklabels([])\n",
    "            ax.set_xlabel('')      \n",
    "            ax.set_ylabel('')\n",
    "        elif specie == 'Ele_all':\n",
    "            \n",
    "            #s1.plot_mass(fig=fign,specie='C',source='all',markevery=markevery,color='r',marker='^')\n",
    "            #s1.plot_mass(fig=fign,specie='O',source='all',markevery=markevery,color='r',marker='D')\n",
    "            #s1.plot_mass(fig=fign,specie='Si',source='all',markevery=markevery+5,color='b',marker='o')  \n",
    "            #s1.plot_mass(fig=fign,specie='Fe',source='all',markevery=markevery+5,color='g',marker='*')  \n",
    "            s1.plot_mass(fig=fign,specie='C-12',source='all',markevery=markevery,color='r',marker='<',shape='-')\n",
    "            s1.plot_mass(fig=fign,specie='O-16',source='all',markevery=markevery,color='r',marker='s',shape='--')\n",
    "            s1.plot_mass(fig=fign,specie='Si-28',source='all',markevery=markevery+5,color='b',marker='x',shape='-.')  \n",
    "            s1.plot_mass(fig=fign,specie='Fe-56',source='all',markevery=markevery+5,color='g',marker='^',shape=':')             \n",
    "            leg=plt.legend(loc=4,fontsize=12)  \n",
    "            leg.get_frame().set_edgecolor('k')\n",
    "            leg.get_frame().set_alpha(1.)\n",
    "            ax.set_yticks([1e-10,1e-8,1e-6,1e-4,1e-2])\n",
    "            plt.ylim(1e-5,1e-2)\n",
    "            ax.set_ylabel('')\n",
    "            ax.set_xlabel('SSP age [yr]', fontsize=15)\n",
    "        else:\n",
    "\n",
    "            s1.plot_mass(fig=fign,specie='Sr',source='all',markevery=markevery+5,color='m',marker='x')  \n",
    "            s1.plot_mass(fig=fign,specie='Ba',source='all',markevery=markevery+5,color='grey',marker='<')  \n",
    "            s1.plot_mass(fig=fign,specie='Pb',source='all',markevery=markevery+5,color='y',marker='*')  \n",
    "            s1.plot_mass(fig=fign,specie='Sr-88',source='all',markevery=markevery+5,color='m',marker='D',shape='--')  \n",
    "            s1.plot_mass(fig=fign,specie='Ba-138',source='all',markevery=markevery+5,color='grey',marker='o',shape='--')  \n",
    "            s1.plot_mass(fig=fign,specie='Pb-208',source='all',markevery=markevery+5,color='y',marker='^',shape='--')  \n",
    "            leg=plt.legend(loc=4,fontsize=12) \n",
    "            leg.get_frame().set_edgecolor('k')\n",
    "            leg.get_frame().set_alpha(1.)\n",
    "            ax.set_ylabel('') \n",
    "            ax.set_yticks([1e-10,1e-8,1e-6,1e-4,1e-2])\n",
    "            ax.set_xlabel('SSP age [yr]', fontsize=15)\n",
    "            plt.ylim(1e-10,1e-7)\n",
    "        plt.xlim(5e6,1e10)\n",
    "        \n",
    "#general settings\n",
    "fig=plt.gcf()        \n",
    "fig.set_size_inches(20,10)\n",
    "plt.subplots_adjust(hspace=0.1, bottom=0.225,wspace=0.15)   \n",
    "plt.subplots_adjust(hspace=0.1, bottom=0.225,wspace=0.15,left=0.1,right=0.9)\n",
    "plt.subplots_adjust(hspace=0.1, bottom=0.125,wspace=0.2,left=0.1,right=0.9)\n",
    "fig=plt.gcf()        \n",
    "fig.set_size_inches(14,10,forward=True)          \n",
    "fig.set_size_inches(12,10,forward=True)          \n",
    "fig.text(0.04, 0.65, r'Accumulated ejecta [M$_{\\odot}$]', ha='center',rotation='vertical',fontsize=15)\n",
    "matplotlib.rcParams.update({'font.size': 14})"
   ]
  },
  {
   "cell_type": "markdown",
   "metadata": {
    "deletable": true,
    "editable": true
   },
   "source": [
    "## Fig. 2 (top)"
   ]
  },
  {
   "cell_type": "code",
   "execution_count": null,
   "metadata": {
    "collapsed": false,
    "deletable": true,
    "editable": true,
    "scrolled": false
   },
   "outputs": [],
   "source": [
    "fign = fign + 1\n",
    "fig=plt.figure(fign)\n",
    "ax=plt.gca()\n",
    "other='Mdot_wind' #s1.stellar_param_attrs\n",
    "k=0\n",
    "s1.plot_stellar_param(fig=fign,quantity=other,\n",
    "label='10$^4$M$_{\\odot}$ population',\n",
    "marker='o',shape='-',color='b',markevery=10)\n",
    "plt.xlabel('SSP age [yr]', fontsize=20)\n",
    "plt.ylabel('Mass-loss rate [M$_{\\odot}$ yr$^{-1}$]', fontsize=20)\n",
    "plt.legend(loc=1,fontsize=14)\n",
    "plt.xlim(1e7,1e10)\n",
    "plt.ylim(1e-13,1e-8)\n",
    "plt.legend().set_visible(False)\n",
    "#style\n",
    "fig.set_size_inches(8,5.6,forward=True)\n",
    "ax.tick_params(length=6,width=2,which='both')\n",
    "ax.tick_params(length=10,width=3,which='major')\n",
    "plt.tight_layout(h_pad=1.,pad=1.)\n",
    "matplotlib.rcParams.update({'font.size': 20})"
   ]
  },
  {
   "cell_type": "markdown",
   "metadata": {
    "deletable": true,
    "editable": true
   },
   "source": [
    "## Fig. 2 (middle)"
   ]
  },
  {
   "cell_type": "code",
   "execution_count": null,
   "metadata": {
    "collapsed": false,
    "deletable": true,
    "editable": true,
    "scrolled": false
   },
   "outputs": [],
   "source": [
    "fign= fign + 1\n",
    "fig=plt.figure(fign)\n",
    "ax=plt.gca()\n",
    "s1.plot_stellar_param(fig=fign,quantity='Ekindot_wind',\n",
    "    label='Wind',marker='o',shape='-',color='b',markevery=10)\n",
    "s1.plot_stellar_param(fig=fign,quantity='CCSN energy',label='CCSN',\n",
    "                      marker='x',shape='--',color='m',markevery=10)\n",
    "s1.plot_stellar_param(fig=fign,quantity='SNIa energy',label='SNIa',\n",
    "                      marker='^',shape=':',color='r',markevery=10)\n",
    "plt.xlabel('SSP Age [yr]', fontsize=21)\n",
    "#plt.ylabel('L$_{mech}$ [erg/s]')\n",
    "plt.ylabel('Kinetic energy [erg s$^{-1}$]', fontsize=21)\n",
    "plt.xlim(1e7,1e10)\n",
    "plt.ylim(1e28,1e35)\n",
    "ax.set_yticks([1e28,1e30,1e32,1e34])\n",
    "leg=plt.legend(loc=1,fontsize=18)\n",
    "leg.get_frame().set_edgecolor('k')\n",
    "leg.get_frame().set_alpha(1.)\n",
    "#style\n",
    "fig.set_size_inches(8,5.6,forward=True)\n",
    "ax.tick_params(length=6,width=2,which='both')\n",
    "ax.tick_params(length=10,width=3,which='major')\n",
    "plt.tight_layout(h_pad=1.,pad=0.3)\n",
    "matplotlib.rcParams.update({'font.size': 21})\n",
    "plt.xscale('log')"
   ]
  },
  {
   "cell_type": "markdown",
   "metadata": {},
   "source": [
    "## Fig. 2 (bottom)"
   ]
  },
  {
   "cell_type": "code",
   "execution_count": null,
   "metadata": {
    "collapsed": false,
    "deletable": true,
    "editable": true
   },
   "outputs": [],
   "source": [
    "fign = fign + 1\n",
    "fig=plt.figure(fign)\n",
    "ax=plt.gca()\n",
    "s1.plot_stellar_param(fig=fign,quantity='L_tot',label='L$_{tot}$',\n",
    "                      marker='o',shape='-',color='b',markevery=10)\n",
    "s1.plot_stellar_param(fig=fign,quantity='[11.18, 13.6]',label='Lyman-Werner band', #label='11.18 - 13.6eV',\n",
    "                      marker='s',shape='--',color='r',markevery=10)\n",
    "s1.plot_stellar_param(fig=fign,quantity='[13.6, 24.6]',label='H-ionizing band', #label='13.6 - 24.6eV',\n",
    "                      marker='^',shape='-.',color='g',markevery=10)\n",
    "plt.xscale('log');plt.yscale('log')\n",
    "leg=plt.legend(fontsize=17,loc=3, frameon=True)\n",
    "plt.xlabel('SSP age [yr]', fontsize=21)\n",
    "leg.get_frame().set_edgecolor('k')\n",
    "leg.get_frame().set_alpha(1.)\n",
    "#plt.ylabel('Luminosity [erg/s]')\n",
    "plt.ylabel('Luminosity [erg s$^{-1}$]', fontsize=21)\n",
    "plt.xlim(1e7,1e10)\n",
    "plt.ylim(1e26,1e37)\n",
    "ax.set_yticks([1e26,1e28,1e30,1e32,1e34,1e36])\n",
    "#style\n",
    "fig.set_size_inches(8,5.6,forward=True)\n",
    "ax.tick_params(length=6,width=2,which='both')\n",
    "ax.tick_params(length=10,width=3,which='major')\n",
    "plt.tight_layout(h_pad=1.,pad=1.)\n",
    "matplotlib.rcParams.update({'font.size': 21})"
   ]
  },
  {
   "cell_type": "code",
   "execution_count": null,
   "metadata": {
    "collapsed": true
   },
   "outputs": [],
   "source": []
  }
 ],
 "metadata": {
  "kernelspec": {
   "display_name": "Python 3",
   "language": "python",
   "name": "python3"
  },
  "language_info": {
   "codemirror_mode": {
    "name": "ipython",
    "version": 3
   },
   "file_extension": ".py",
   "mimetype": "text/x-python",
   "name": "python",
   "nbconvert_exporter": "python",
   "pygments_lexer": "ipython3",
   "version": "3.4.8"
  }
 },
 "nbformat": 4,
 "nbformat_minor": 0
}
