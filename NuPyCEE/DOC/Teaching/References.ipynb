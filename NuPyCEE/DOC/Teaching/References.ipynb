{
 "cells": [
  {
   "cell_type": "markdown",
   "metadata": {},
   "source": [
    "# Introduction"
   ]
  },
  {
   "cell_type": "markdown",
   "metadata": {},
   "source": [
    "For now we refer for a first introduction to chemical evolution to the extensive list of references below."
   ]
  },
  {
   "cell_type": "markdown",
   "metadata": {
    "collapsed": true
   },
   "source": [
    "## List of references"
   ]
  },
  {
   "cell_type": "markdown",
   "metadata": {},
   "source": [
    "#### Books\n"
   ]
  },
  {
   "cell_type": "markdown",
   "metadata": {},
   "source": [
    "'Nucleosynthesis and Chemical Evolution of Galaxies' http://adsabs.harvard.edu/abs/1997nceg.book.....P\n",
    "\n",
    "'The chemical evolution of the Galaxy' http://adsabs.harvard.edu/abs/2001ASSL..253.....M\n",
    "\n",
    "Huge compendium: 'Galaxy Formation and Evolution' http://www.cambridge.org/catalogue/catalogue.asp?isbn=0521857937"
   ]
  },
  {
   "cell_type": "markdown",
   "metadata": {
    "collapsed": true
   },
   "source": [
    "**Introduction papers**"
   ]
  },
  {
   "cell_type": "markdown",
   "metadata": {},
   "source": [
    "Gibson et al. (2013) -- http://adsabs.harvard.edu/abs/2003PASA...20..401G\n",
    "\n",
    "Prantzos (2008) -- http://adsabs.harvard.edu/abs/2008EAS....32..311P\n",
    "\n",
    "Nomoto et al.(2013) -- http://adsabs.harvard.edu/abs/2013ARA%26A..51..457N\n",
    "\n",
    "Matteucci (2014) -- http://adsabs.harvard.edu/abs/2014SAAS...37..145M"
   ]
  },
  {
   "cell_type": "code",
   "execution_count": null,
   "metadata": {
    "collapsed": true
   },
   "outputs": [],
   "source": []
  }
 ],
 "metadata": {
  "kernelspec": {
   "display_name": "Python 3",
   "language": "python",
   "name": "python3"
  },
  "language_info": {
   "codemirror_mode": {
    "name": "ipython",
    "version": 3
   },
   "file_extension": ".py",
   "mimetype": "text/x-python",
   "name": "python",
   "nbconvert_exporter": "python",
   "pygments_lexer": "ipython3",
   "version": "3.4.5"
  }
 },
 "nbformat": 4,
 "nbformat_minor": 0
}
