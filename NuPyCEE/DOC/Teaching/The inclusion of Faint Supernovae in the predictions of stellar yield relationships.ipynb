{
 "cells": [
  {
   "cell_type": "markdown",
   "metadata": {},
   "source": [
    "# STELLAB and OMEGA (Stellar yields + Faint Supernovae)"
   ]
  },
  {
   "cell_type": "markdown",
   "metadata": {},
   "source": [
    "Documented by Jacob Brazier.\n",
    "\n",
    "**Note** This notebooks require an experimental yields table, which is not part of NuPyCEE.\n",
    "\n",
    "See [Côté et al. (2016)](http://adsabs.harvard.edu/abs/2016ApJ...824...82C ''Title'') and the OMEGA/STELLAB/SYGMA notebooks for further information.\n",
    "\n",
    "Faint supernovae are low luminosity core-collapse supernovae characterised by their relatively small generation of Nickel-56 [Nomoto et al. 2013](http://www.annualreviews.org/doi/pdf/10.1146/annurev-astro-082812-140956 ''title''). Nuclei that originate from the silicon burning regions of a star, undergo fallback if the explosion energy is too low to overcome gravitational attraction. The mass of the content that undergoes fallback is called the 'mass cut'. Anything above this mass cut is pushed outwards by the explosion, while the material underneath undergoes neutronisation/destruction by the formation of a black hole. The material that is ejected tend to include oxygen and carbon nuclei. Mixing may also occur at the masscut, so that near-iron nuclei may still be ejected. The mixing and fallback model is described in more detail by [Umeda & Nomoto 2002](http://iopscience.iop.org/article/10.1086/323946/pdf ''title'')\n",
    "\n",
    "\n",
    "This project uses OMEGA (One-zone Model for the Evolution of Galaxies) to simulate the chemical evolution of galaxies and to plot the expected abundance ratios of titanium, oxygen, iron, hydrogen and carbon. The main plots show the how the abundance of these elements (with respect to hydrogen) change with both time and stellar metallicity. Fe/H is assumed to be a measure of metallicity, as higher Fe/H values indicate a higher proportion of metal relative to hydrogen. Fe/H is also a rough indicator of the age of stellar populations as metallicity tends to increase with time, and the age of stars can be difficult to determine. We plot the predictions of OMEGA with and without the yields of faint supernovae. Therefore, we can emanine the impact of faint supernovae on the abundance of certain elements. We have made the approximation that the yields of 20MSun pre-supernovae stars are representative of faint supernovae in the 15-40 MSun mass range. \n",
    "\n",
    "STELLAB (Stellar abundances) plots real observational data for different galaxies, and is plotted with OMEGA for comparison. SYGMA (Stellar Yields for Galactic Modelling Applications) calculates the chemical composition of the ejecta of Simple Stellar Populations (SSP) as a function of metallicity and time (Côté et al. 2016b) Chem_evol couples the stellar yields with the the distribution of initial stellar masses (Initial Mass Function [IMF]). \n",
    "\n"
   ]
  },
  {
   "cell_type": "code",
   "execution_count": null,
   "metadata": {
    "scrolled": true
   },
   "outputs": [],
   "source": [
    "#import modules\n",
    "#sygma and omega share the same chem_evol class\n",
    "\n",
    "from NuPyCEE import chem_evol\n",
    "from NuPyCEE import sygma\n",
    "from NuPyCEE import omega\n",
    "from NuPyCEE import stellab\n",
    "\n",
    "#import Python plotting packages\n",
    "import matplotlib\n",
    "import matplotlib.pyplot as plt\n",
    "\n",
    "#Define Stellab\n",
    "stellab = stellab.stellab()\n",
    "%matplotlib nbagg"
   ]
  },
  {
   "cell_type": "markdown",
   "metadata": {
    "collapsed": true
   },
   "source": [
    "# The Initial Mass Function\n"
   ]
  },
  {
   "cell_type": "markdown",
   "metadata": {},
   "source": [
    "The Initial Mass Function describes the initial mass distribution of stars in a stellar population. Applying limits to this function allows us to control the mass range of the data it couples with. In this case it limits the range of the extra yields data. We have chosen the mass range 15-40 (Solar Mass), the mass range of the 1997D and 1999br faint supernovae [Nomoto et al. 2013](http://www.annualreviews.org/doi/pdf/10.1146/annurev-astro-082812-140956 ''title'').  Every star within this mass range is assumed to release the same ejecta as the 20MSun model. In reality, stars with different masses will create ejecta of different masses and composition. The 20 Msun star model is however an average representative of the 15-40MSun mass range. \n",
    "Z (iniZ) refers to the metallicity of the stellar population (one starburst). "
   ]
  },
  {
   "cell_type": "code",
   "execution_count": null,
   "metadata": {},
   "outputs": [],
   "source": [
    "# Run a SYGMA instance to access the Initial Mass Function (IMF)\n",
    "s_imf = sygma.sygma(iniZ=0.02, mgal=1.0)\n",
    "\n",
    "# Define the mass range in which the extra yields will be applied\n",
    "m_low = 15.0\n",
    "m_up = 40.0"
   ]
  },
  {
   "cell_type": "code",
   "execution_count": null,
   "metadata": {},
   "outputs": [],
   "source": [
    "# Calculate the number of stars in that mass range per units of Msun formed\n",
    "A = IMF = 1.0 / s_imf._imf(s_imf.imf_bdys[0], s_imf.imf_bdys[1], 2)\n",
    "nb_extra_star_per_m = A * s_imf._imf(m_low, m_up, 1)\n",
    "print (nb_extra_star_per_m)"
   ]
  },
  {
   "cell_type": "markdown",
   "metadata": {},
   "source": [
    "The model assumes that all the faint SNs occur between 7.581 x 10^6 and 9.588 x 10^6 years. These are the respective lifetimes of the 20MSun and 25MSun star models at Z = 0.02. The number of faint SN per unit solar mass is constant throughout this time period (~0.00368 / MSun). The t and R arrays define the extra source time-distribution rate for a\n",
    "simple stellar population. DTD stands for delay-time distribution. The extra pre-supernovae data yields are contained within  'yield_tables/extra_source_20Msun_O.txt'. The yield tables for preSN of different mass ranges are needed for future simulations for more precise analysis of faint SN ejecta."
   ]
  },
  {
   "cell_type": "code",
   "execution_count": null,
   "metadata": {
    "collapsed": true
   },
   "outputs": [],
   "source": [
    "# Create the DTD and yields information for the extra source\n",
    "# ==========================================================\n",
    "# Event rate [yr^-1] as a function of time [yr].\n",
    "# This assumes that all extra yields will be ejected\n",
    "# between 7.581E+06 and 9.588E+06 years (the lifetimes\n",
    "# of the 20 and 25 Msun models at Z = 0.02).\n",
    "t = [7.580E+06, 7.581E+06, 9.588E+06, 9.589E+06]\n",
    "R = [0.0, 1.0, 1.0, 0.0]"
   ]
  },
  {
   "cell_type": "code",
   "execution_count": null,
   "metadata": {
    "collapsed": true
   },
   "outputs": [],
   "source": [
    "# Build the input DTD array\n",
    "dtd = []\n",
    "for i in range(0,len(t)):\n",
    "    dtd.append([t[i], R[i]])\n",
    "    \n",
    "# Add the DTD array in the delayed_extra_dtd array.\n",
    "delayed_extra_dtd = [[dtd]]"
   ]
  },
  {
   "cell_type": "code",
   "execution_count": null,
   "metadata": {
    "collapsed": true
   },
   "outputs": [],
   "source": [
    "# Define the total number of event per unit of Msun formed.  \n",
    "delayed_extra_dtd_norm = [[nb_extra_star_per_m]]\n",
    "\n",
    "# Define the total mass ejected by an extra source\n",
    "# Here, it would be best to find a correction factor \n",
    "# to account for the different total mass ejected by\n",
    "# stars having different masses. For now, each star\n",
    "# in the mass range eject the same ejecta as the 20Msun\n",
    "# model.\n",
    "delayed_extra_yields_norm = [[1.0]]\n",
    "\n",
    "# Define the yields path for the extra source\n",
    "extra_yields = ['yield_tables/extra_source_20Msun_O.txt']\n",
    "delayed_extra_yields = extra_yields"
   ]
  },
  {
   "cell_type": "markdown",
   "metadata": {},
   "source": [
    "# Milky Way Commands"
   ]
  },
  {
   "cell_type": "markdown",
   "metadata": {},
   "source": [
    "Omega incorporates the star formation history and data of different galaxies. The Milky Way is our chosen galaxy, although this can be changed using the galaxy parameter. The initial Milky Way mass is assumed to be 1e11 solar masses. \n",
    "The transition mass refers to the transition between AGB (Asymptopic Giant Branch)stars and massive stars. A transition mass of 8Msun indicates that all stars below 8Msun in the IMF will have AGB star yields attached to them, while the stars above 8 Msun will have massive star yields attached to them."
   ]
  },
  {
   "cell_type": "code",
   "execution_count": null,
   "metadata": {},
   "outputs": [],
   "source": [
    "# Use a different iPython notebook cell.\n",
    "# OMEGA simulation with pre-SN yields and transition mass = 8 Msun\n",
    "o = omega.omega(galaxy='milky_way', mgal=1e11, delayed_extra_dtd=delayed_extra_dtd, \\\n",
    "                delayed_extra_dtd_norm=delayed_extra_dtd_norm, delayed_extra_yields=delayed_extra_yields, \\\n",
    "                delayed_extra_yields_norm=delayed_extra_yields_norm, transitionmass=8.0)\n",
    "\n",
    "# OMEGA simulation with pre-SN yields and transition mass = 10 Msun\n",
    "o_trans = omega.omega(galaxy='milky_way', mgal=1e11, delayed_extra_dtd=delayed_extra_dtd, \\\n",
    "                delayed_extra_dtd_norm=delayed_extra_dtd_norm, delayed_extra_yields=delayed_extra_yields, \\\n",
    "                delayed_extra_yields_norm=delayed_extra_yields_norm, transitionmass=10.0)\n",
    "\n",
    "# OMEGA simulation without pre-SN yields and transition mass = 8 Msun\n",
    "o_no = omega.omega(galaxy='milky_way', mgal=1e11, transitionmass=8.0)\n",
    "\n",
    "# OMEGA simulation without pre-SN yields and transition mass = 10 Msun\n",
    "o_no_trans = omega.omega(galaxy='milky_way', mgal=1e11, transitionmass=10.0)"
   ]
  },
  {
   "cell_type": "markdown",
   "metadata": {},
   "source": []
  },
  {
   "cell_type": "markdown",
   "metadata": {},
   "source": [
    "# Plotting the stellar abundance ratios"
   ]
  },
  {
   "cell_type": "markdown",
   "metadata": {},
   "source": [
    "We can now plot the stellar abundance ratios. The element(s) of interest can be changed by altering the xaxis/yaxis identities below. In this case, O/Fe is plotted against Fe/H. \n",
    "The abundance ratios are logarithmic as shown below.\n",
    "$$[A/B]=\\log(n_A/n_B)-\\log(n_A/n_B)_\\odot.$$ \n",
    "where A and B are the relevant elements. This equation links $n_A/n_B$ (the abundance ratio for a star) and $(n_A/n_B)_\\odot$ (the solar normalisation). This ensures the resulting ratios are notated relative to the Suns own abundance ratios. If [A/B]= 0 this indicates that the star shares the same element abundance ratio for A and B. A star therefore has an abundance ratio $10^{A/B}$ times that of the Sun.The solar normalisation can be extracted from a reference paper, using the norm parameter, which in this case is 'Grevesse_Noels_1993'. "
   ]
  },
  {
   "cell_type": "code",
   "execution_count": null,
   "metadata": {},
   "outputs": [],
   "source": [
    "#Obtain a list of normalisation reference papers\n",
    "stellab.list_solar_norm() "
   ]
  },
  {
   "cell_type": "markdown",
   "metadata": {},
   "source": [
    "The observational data included by STELLAB can be changed by altering the list of references in obs. It is recommended that this list is kept relatively compact. Adding too much data may dominate the graph, making it difficult to observe important relationships. We have removed APOGEE, as it clouds particular areas of the graph, and does not currently feature notable error data. APOGEE can of course be returned if necessary. A list of references can be obtained using the command below."
   ]
  },
  {
   "cell_type": "code",
   "execution_count": null,
   "metadata": {},
   "outputs": [],
   "source": [
    "stellab.list_ref_papers() "
   ]
  },
  {
   "cell_type": "markdown",
   "metadata": {},
   "source": [
    "The abundance ratios that are plotted can be changinging by swapping the element symbols in the x/y axis brackets. A list of included data is incorporated in obs, which STELLAB will plot. References can be removed from this list to reduce data dispersion and clouding. Error bars are included for detailed and accurate analysis of the ratios. These can be turned on by including 'show_err=True, show_mean_err=True' within the plot_spectro function above. However the inclusion of error may lead to OMEGA being plotted underneath STELLAB,so it is important to use an overplotting procedure as shown above. OMEGA plots in white underneath the coloured lines in this instance. This makes it easier to differentiate between OMEGA plots and STELLAB data. The colours are changed by changing the 'color' parameter. See [Dale et.al](http://matplotlib.org/examples/color/named_colors.html 'Title'') for colour examples.\n",
    "Not all STELLAB data currently contain error bars, as many of these papers do not include them in yield tables, and they instead state an average error. These error bars can be plotted separately on the graph. The error markers respond to the STELLAB data which match their shape and colour.\n",
    "\n"
   ]
  },
  {
   "cell_type": "code",
   "execution_count": null,
   "metadata": {},
   "outputs": [],
   "source": [
    "#Define your X and Y axis\n",
    "xaxis = '[Fe/H]' \n",
    "yaxis = '[O/Fe]'\n",
    "# Plot observational data\n",
    "obs = [\n",
    "'stellab_data/milky_way_data/Venn_et_al_2004_stellab',\n",
    "'stellab_data/milky_way_data/Akerman_et_al_2004_stellab',\n",
    "'stellab_data/milky_way_data/Andrievsky_et_al_2007_stellab',\n",
    "'stellab_data/milky_way_data/Andrievsky_et_al_2008_stellab',\n",
    "'stellab_data/milky_way_data/Andrievsky_et_al_2010_stellab',\n",
    "'stellab_data/milky_way_data/Bensby_et_al_2005_stellab',\n",
    "'stellab_data/milky_way_data/Bihain_et_al_2004_stellab',\n",
    "'stellab_data/milky_way_data/Bonifacio_et_al_2009_stellab',\n",
    "'stellab_data/milky_way_data/Caffau_et_al_2005_stellab',\n",
    "'stellab_data/milky_way_data/Gratton_et_al_2003_stellab',\n",
    "'stellab_data/milky_way_data/Israelian_et_al_2004_stellab',\n",
    "'stellab_data/milky_way_data/Nissen_et_al_2007_stellab',\n",
    "'stellab_data/milky_way_data/Reddy_et_al_2003_stellab',\n",
    "'stellab_data/milky_way_data/Spite_et_al_2005_stellab',\n",
    "'stellab_data/milky_way_data/Battistini_Bensby_2016_stellab',\n",
    "'stellab_data/milky_way_data/Nissen_et_al_2014_stellab',\n",
    "'stellab_data/milky_way_data/Ramirez_et_al_2013_stellab',\n",
    "'stellab_data/milky_way_data/Bensby_et_al_2014_stellab',\n",
    "'stellab_data/milky_way_data/Battistini_Bensby_2015_stellab',\n",
    "'stellab_data/milky_way_data/Adibekyan_et_al_2012_stellab',\n",
    "'stellab_data/milky_way_data/Aoki_Honda_2008_stellab',\n",
    "'stellab_data/milky_way_data/Hansen_et_al_2012_pecu_excluded_stellab',\n",
    "'stellab_data/milky_way_data/Ishigaki_et_al_2012_2013_stellab',\n",
    "'stellab_data/milky_way_data/Roederer_et_al_2009_stellab',\n",
    "'stellab_data/milky_way_data/Roederer_et_al_2014_pecu_excluded_stellab']\n",
    "\n",
    "\n",
    "\n",
    "stellab.plot_spectro(xaxis=xaxis, yaxis=yaxis, galaxy= 'milky way', norm='Grevesse_Noels_1993', show_err=True, show_mean_err=True, obs=obs, ms=4)\n",
    "\n",
    "# Extract numerical predictions\n",
    "xy = o.plot_spectro(xaxis=xaxis, yaxis=yaxis, return_x_y=True)\n",
    "xy_trans = o_trans.plot_spectro(xaxis=xaxis, yaxis=yaxis, return_x_y=True)\n",
    "xy_no = o_no.plot_spectro(xaxis=xaxis, yaxis=yaxis, return_x_y=True)\n",
    "xy_no_trans = o_no_trans.plot_spectro(xaxis=xaxis, yaxis=yaxis, return_x_y=True)\n",
    "\n",
    "# Plot white lines - these make it easier to differentiate OMEGA plots from STELLAB data\n",
    "plt.plot(xy[0], xy[1], color='w', linewidth=3, zorder=999)\n",
    "plt.plot(xy_no[0], xy_no[1], color='w', linewidth=3,zorder=999)\n",
    "plt.plot(xy_trans[0], xy_trans[1], color='w', linewidth=3, alpha=0.9, zorder= 999)\n",
    "plt.plot(xy_no_trans[0], xy_no_trans[1], color='w', linewidth=3, alpha=0.9, zorder=999)\n",
    "\n",
    "# Plot coloured lines\n",
    "plt.plot(xy[0], xy[1], color='g', linewidth=1.5, label='PreSN for M=[15-40], M_trans=8',zorder=1000)\n",
    "plt.plot(xy_trans[0], xy_trans[1], color='r', linewidth=1.5, linestyle='--', label='PreSN for M=[15-40], M_trans=10', zorder=1000)\n",
    "plt.plot(xy_no[0], xy_no[1], color='midnightblue', linewidth=1.5, label='Original, M_trans=8', zorder=1000)\n",
    "plt.plot(xy_no_trans[0], xy_no_trans[1], color='yellow', linewidth=1.5, linestyle='--', label='Original, M_trans=10', zorder=1000)\n",
    "\n",
    "# Update the legend\n",
    "plt.legend(loc='center left', bbox_to_anchor=(1.01, 0.5), markerscale=1, fontsize=10)\n",
    "\n",
    "# x and y positions of the added error bars\n",
    "xlow = -4.\n",
    "xhigh = 0.5\n",
    "ylow = -1.4\n",
    "yhigh = 1.8\n",
    "plt.xlim(xlow,xhigh)\n",
    "plt.ylim(ylow,yhigh) \n",
    "\n",
    "#The size,shape and colour of the error bars and their markers\n",
    "yerror=[0.16,0.05,0.0,0.23,0.2, 0.01] #dex\n",
    "xerror=[0.07,0.03,0.03,0.05,0.24, 0.2] #size of error\n",
    "marker=['bs','cx','bo','cs', 'co', 'rs'] #marker shape\n",
    "markers=[4,4,4,4,4, 4] #marker size\n",
    "colorbar=['b','c','b','c', 'c', 'r']\n",
    "shift_x=[0.1,0.25, 0.37, 0.48, 0.8, 1.3] # these shift the position of the error bars\n",
    "j=0\n",
    "for i in yerror:\n",
    "    plt.errorbar(xhigh-shift_x[j],yhigh-0.26,xerr=xerror[j],yerr=i,fmt=marker[j],markersize=markers[j],ecolor=colorbar[j],capsize=2)\n",
    "    j=j+1"
   ]
  },
  {
   "cell_type": "markdown",
   "metadata": {},
   "source": [
    "The impacts of the faint supernovae on the Milky Way can be observed by comparing the PreSN plots to the observational STELLAB plots and the Original (no PreSN) plots.  "
   ]
  },
  {
   "cell_type": "code",
   "execution_count": null,
   "metadata": {
    "collapsed": true
   },
   "outputs": [],
   "source": []
  }
 ],
 "metadata": {
  "kernelspec": {
   "display_name": "Python 3",
   "language": "python",
   "name": "python3"
  },
  "language_info": {
   "codemirror_mode": {
    "name": "ipython",
    "version": 3
   },
   "file_extension": ".py",
   "mimetype": "text/x-python",
   "name": "python",
   "nbconvert_exporter": "python",
   "pygments_lexer": "ipython3",
   "version": "3.9.1"
  }
 },
 "nbformat": 4,
 "nbformat_minor": 2
}
