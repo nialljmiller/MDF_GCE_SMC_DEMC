{
 "cells": [
  {
   "cell_type": "code",
   "execution_count": 61,
   "metadata": {
    "collapsed": false
   },
   "outputs": [
    {
     "data": {
      "text/plain": [
       "<module 'chem_evol' from 'chem_evol.pyc'>"
      ]
     },
     "execution_count": 61,
     "metadata": {},
     "output_type": "execute_result"
    }
   ],
   "source": [
    "%matplotlib inline\n",
    "import numpy as np\n",
    "import matplotlib.pyplot as plt\n",
    "import sygma as s\n",
    "reload(s)\n",
    "import omega as o\n",
    "reload(o)\n",
    "import chem_evol as c\n",
    "reload(c)"
   ]
  },
  {
   "cell_type": "markdown",
   "metadata": {},
   "source": [
    "## Initialisation"
   ]
  },
  {
   "cell_type": "code",
   "execution_count": 62,
   "metadata": {
    "collapsed": false
   },
   "outputs": [
    {
     "name": "stdout",
     "output_type": "stream",
     "text": [
      "SYGMA run in progress..\n",
      "   SYGMA run completed - Run time: 0.56s\n",
      "SYGMA run in progress..\n",
      "   SYGMA run completed - Run time: 0.68s\n",
      "SYGMA run in progress..\n",
      "   SYGMA run completed - Run time: 0.61s\n",
      "SYGMA run in progress..\n",
      "   SYGMA run completed - Run time: 0.62s\n",
      "SYGMA run in progress..\n",
      "   SYGMA run completed - Run time: 0.63s\n"
     ]
    }
   ],
   "source": [
    "# Do a SYGMA run for each NuGrid metallicity\n",
    "\n",
    "s_02 = s.sygma(iniZ=0.02, imf_type='salpeter')\n",
    "s_01 = s.sygma(iniZ=0.01, imf_type='salpeter')\n",
    "s_006 = s.sygma(iniZ=0.006, imf_type='salpeter')\n",
    "s_001 = s.sygma(iniZ=0.001, imf_type='salpeter')\n",
    "s_0001 = s.sygma(iniZ=0.0001, imf_type='salpeter')"
   ]
  },
  {
   "cell_type": "code",
   "execution_count": 63,
   "metadata": {
    "collapsed": false
   },
   "outputs": [
    {
     "name": "stdout",
     "output_type": "stream",
     "text": [
      "0.109535502807\n",
      "0.108478909105\n",
      "0.108056271737\n",
      "0.107633634269\n",
      "0.107633634271\n"
     ]
    }
   ],
   "source": [
    "# Show the number of neutron star mergers at each timestep; should not be negative, and should be roughly equal!\n",
    "\n",
    "print np.sum(s_02.history.nsm_numbers)\n",
    "print np.sum(s_01.history.nsm_numbers)\n",
    "print np.sum(s_006.history.nsm_numbers)\n",
    "print np.sum(s_001.history.nsm_numbers)\n",
    "print np.sum(s_0001.history.nsm_numbers)"
   ]
  },
  {
   "cell_type": "markdown",
   "metadata": {
    "collapsed": false
   },
   "source": [
    "## IMF check\n",
    "\n",
    "The Salpeter allows one to calculate the number of stars $N_{12}$ in the mass interval [m1, m2] with\n",
    "\n",
    "(I) $N_{12} = k_N \\int _{m1}^{m2} m^{-2.35} dm$ \n",
    "\n",
    "Where $k_{N}$ is the normalization constant, which can be derived from the total amount of mass in the system $M_{tot}$.\n",
    "Since the total mass $M_{12}$ in the mass interval above can be estimated with\n",
    "\n",
    "(II) $M_{12} = k_N \\int _{m1}^{m2} m^{-1.35} dm$\n",
    "\n",
    "the mass interval of [8, 100] for neutron star progenitors, [0.1, 100] for the total mass, and $M_{tot}=1e4$ will yield for $k_N$:\n",
    "\n",
    "$1e4 = \\frac{k_N}{0.35}(0.1^{-0.35} - 100^{-0.35})$"
   ]
  },
  {
   "cell_type": "code",
   "execution_count": 67,
   "metadata": {
    "collapsed": true
   },
   "outputs": [],
   "source": [
    "# Name the relevant quantities\n",
    "mtot = s_001.mgal\n",
    "nsm_l = s_001.transitionmass\n",
    "imf0 = s_001.imf_bdys[0]\n",
    "imf1 = s_001.imf_bdys[1]\n",
    "\n",
    "# Compute the normalization constant as defined above\n",
    "k_N = (mtot*0.35) / (imf0**-0.35 - imf1**-0.35) #(I)"
   ]
  },
  {
   "cell_type": "markdown",
   "metadata": {},
   "source": [
    "The total number of NS merger progenitors $N_{12}$ is then:\n",
    "\n",
    "$N_{12} = \\frac{k_N}{1.35}(8^{-1.35} - 100^{-1.35})$"
   ]
  },
  {
   "cell_type": "code",
   "execution_count": 68,
   "metadata": {
    "collapsed": false
   },
   "outputs": [],
   "source": [
    "# Compute the total number of neutron star merger progenitors as defined above\n",
    "N_nsm = (k_N/1.35) * (nsm_l**-1.35 - imf1**-1.35)"
   ]
  },
  {
   "cell_type": "markdown",
   "metadata": {},
   "source": [
    "Compared to a SYGMA run:"
   ]
  },
  {
   "cell_type": "code",
   "execution_count": 69,
   "metadata": {
    "collapsed": false
   },
   "outputs": [
    {
     "name": "stdout",
     "output_type": "stream",
     "text": [
      "Theoretical number of neutron star progenitors:  74.2177993298\n",
      "Number of neutron star progenitors in SYGMA run:  74.2177993298\n",
      "Ratio (should be ~1):  1.0\n"
     ]
    }
   ],
   "source": [
    "# Compute the number of NS merger progenitors in one of the SYGMA runs (normalize to mgal)\n",
    "A_imf = mtot / s_001._imf(imf0, imf1, 2)\n",
    "N_sim = A_imf * s_001._imf(nsm_l, imf1, 1)\n",
    "\n",
    "print 'Theoretical number of neutron star progenitors: ', N_nsm\n",
    "print 'Number of neutron star progenitors in SYGMA run: ', N_sim\n",
    "print 'Ratio (should be ~1): ', N_sim / N_nsm"
   ]
  },
  {
   "cell_type": "markdown",
   "metadata": {},
   "source": [
    "## Ensure r-process yields are being read in properly"
   ]
  },
  {
   "cell_type": "code",
   "execution_count": 43,
   "metadata": {
    "collapsed": false
   },
   "outputs": [],
   "source": [
    "# Obtain the fractional isotope yields from a SYGMA run\n",
    "l = len(s_01.history.ism_iso_yield_nsm)\n",
    "y = s_01.history.ism_iso_yield_nsm[l-1]\n",
    "n = np.sum(y)\n",
    "yields = y / n\n",
    "\n",
    "# Exclude isotopes for which there are no r-process yields in the yield table\n",
    "nonzero = np.nonzero(yields)\n",
    "yields = yields[nonzero]"
   ]
  },
  {
   "cell_type": "code",
   "execution_count": 44,
   "metadata": {
    "collapsed": false
   },
   "outputs": [],
   "source": [
    "# Obtain the mass numbers for the isotopes (x-axis ticks)\n",
    "massnums = []\n",
    "\n",
    "for i in s_01.history.isotopes:\n",
    "    massnum = i.split('-')[1]\n",
    "    massnums.append(float(massnum))\n",
    "\n",
    "# Again exclude zero values\n",
    "massnums = np.asarray(massnums)\n",
    "massnums = massnums[nonzero]"
   ]
  },
  {
   "cell_type": "code",
   "execution_count": 45,
   "metadata": {
    "collapsed": false
   },
   "outputs": [],
   "source": [
    "# Hacky text parser to get all the fractional isotope values from the r-process yield table\n",
    "r_yields_text = open('yield_tables/r_process_rosswog_2014.txt')\n",
    "r_yields = r_yields_text.readlines()\n",
    "lines = []\n",
    "\n",
    "for line in r_yields:\n",
    "    lines.append(line)\n",
    "\n",
    "newlines = []\n",
    "\n",
    "for line in lines:\n",
    "    if '&' in line:\n",
    "        new = line.strip()\n",
    "        new = new.split('&')\n",
    "        newlines.append(new)\n",
    "        \n",
    "massfracs = []\n",
    "rmassnums = []\n",
    "        \n",
    "for ind, el in enumerate(newlines):\n",
    "    if ind is not 0:\n",
    "        massfracs.append(float(el[2]))\n",
    "        rmassnums.append(float(el[1].split('-')[1]))\n",
    "\n",
    "# Array of r-process yields to compare with simulation yields\n",
    "massfracs = np.asarray(massfracs)"
   ]
  },
  {
   "cell_type": "code",
   "execution_count": 46,
   "metadata": {
    "collapsed": false
   },
   "outputs": [
    {
     "data": {
      "text/plain": [
       "<matplotlib.legend.Legend at 0x574e210>"
      ]
     },
     "execution_count": 46,
     "metadata": {},
     "output_type": "execute_result"
    },
    {
     "data": {
      "image/png": "[encoded data removed]",
      "text/plain": [
       "<matplotlib.figure.Figure at 0x62e85d0>"
      ]
     },
     "metadata": {},
     "output_type": "display_data"
    }
   ],
   "source": [
    "# Plot r-process yields against neutron star merger simulation yields (should be nearly identical)\n",
    "\n",
    "plt.figure(figsize=(12,8))\n",
    "plt.scatter(massnums, yields, marker='x', s=32, color='red', label='Final neutron star merger ejecta')\n",
    "plt.scatter(rmassnums, massfracs, s=8, label='r-process yields')\n",
    "plt.xlim(80, 250)\n",
    "plt.ylim(0.000000000001, 1)\n",
    "plt.yscale('log')\n",
    "plt.xlabel('Mass number')\n",
    "plt.ylabel('Mass fraction')\n",
    "plt.legend(loc=4)\n",
    "#plt.savefig('yield_comparison.png', dpi=200)"
   ]
  },
  {
   "cell_type": "markdown",
   "metadata": {},
   "source": [
    "## Check DTD fits"
   ]
  },
  {
   "cell_type": "code",
   "execution_count": 1,
   "metadata": {
    "collapsed": false
   },
   "outputs": [],
   "source": [
    "# Define the three functions which are fit to the DTD (Power law, 5th and 6th degree polynomials)\n",
    "\n",
    "def quintic(t, a, b, c, d, e, f): \n",
    "    y = (a*(t**5))+(b*(t**4))+(c*(t**3))+(d*(t**2))+(e*t)+f\n",
    "    return y\n",
    "\n",
    "def sextic(t, a, b, c, d, e, f, g):\n",
    "    y = a*(t**6) + b*(t**5) + c*(t**4) + d*(t**3) + e*(t**2) + f*t + g\n",
    "    return y\n",
    "\n",
    "def powlaw(a, t):\n",
    "    y = a / t\n",
    "    return y"
   ]
  },
  {
   "cell_type": "code",
   "execution_count": 60,
   "metadata": {
    "collapsed": false
   },
   "outputs": [
    {
     "data": {
      "text/plain": [
       "[<matplotlib.lines.Line2D at 0x600e450>]"
      ]
     },
     "execution_count": 60,
     "metadata": {},
     "output_type": "execute_result"
    },
    {
     "data": {
      "image/png": "[encoded data removed]",
      "text/plain": [
       "<matplotlib.figure.Figure at 0x60d6610>"
      ]
     },
     "metadata": {},
     "output_type": "display_data"
    }
   ],
   "source": [
    "# Solar metallicity fit, parameters from chem_evol (see fitting notebook to derive new parameters)\n",
    "a = -0.0138858377011\n",
    "b = 1.0712569392\n",
    "c = -32.1555682584\n",
    "d = 468.236521089\n",
    "e = -3300.97955814\n",
    "f = 9019.62468302\n",
    "t = np.linspace(10, 22.2987, 100) # Polynomial portion of solar metallicity DTD x-axis\n",
    "\n",
    "# Define the DTD fit and plot it\n",
    "y = quintic(t, a, b, c, d, e, f)\n",
    "plt.plot(t, y)"
   ]
  },
  {
   "cell_type": "code",
   "execution_count": 15,
   "metadata": {
    "collapsed": false
   },
   "outputs": [
    {
     "data": {
      "text/plain": [
       "[<matplotlib.lines.Line2D at 0x44e6110>]"
      ]
     },
     "execution_count": 15,
     "metadata": {},
     "output_type": "execute_result"
    },
    {
     "data": {
      "image/png": "[encoded data removed]",
      "text/plain": [
       "<matplotlib.figure.Figure at 0x45c6950>"
      ]
     },
     "metadata": {},
     "output_type": "display_data"
    }
   ],
   "source": [
    "a = -2.88192413434e-5\n",
    "b = 0.00387383125623\n",
    "c = -0.20721471544\n",
    "d = 5.64382310405\n",
    "e = -82.6061154979\n",
    "f = 617.464778362\n",
    "g = -1840.49386605\n",
    "\n",
    "y = sextic(t, a, b, c, d, e, f, g)\n",
    "plt.plot(t, y)"
   ]
  },
  {
   "cell_type": "code",
   "execution_count": null,
   "metadata": {
    "collapsed": true
   },
   "outputs": [],
   "source": []
  }
 ],
 "metadata": {
  "kernelspec": {
   "display_name": "Python 2",
   "language": "python",
   "name": "python2"
  },
  "language_info": {
   "codemirror_mode": {
    "name": "ipython",
    "version": 2
   },
   "file_extension": ".py",
   "mimetype": "text/x-python",
   "name": "python",
   "nbconvert_exporter": "python",
   "pygments_lexer": "ipython2",
   "version": "2.7.5"
  }
 },
 "nbformat": 4,
 "nbformat_minor": 0
}
