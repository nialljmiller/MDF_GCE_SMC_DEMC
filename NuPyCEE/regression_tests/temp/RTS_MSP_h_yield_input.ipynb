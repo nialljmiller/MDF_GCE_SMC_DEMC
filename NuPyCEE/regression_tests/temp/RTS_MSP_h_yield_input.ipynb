{
 "metadata": {
  "name": "",
  "signature": "sha256:07f7f2ddee3204fd5867390c3af043c90a6688264c98d2337dc97e672e075291"
 },
 "nbformat": 3,
 "nbformat_minor": 0,
 "worksheets": [
  {
   "cells": [
    {
     "cell_type": "heading",
     "level": 1,
     "metadata": {},
     "source": [
      "Regression test suite: Test of MSP (multiple stellar populations/continous SFR) GCE features"
     ]
    },
    {
     "cell_type": "markdown",
     "metadata": {},
     "source": [
      "Test of SSP with artificial yields (e.g. pure h1 yields) provided in tables. Focus are basic GCE features.\n",
      "You can find the documentation <a href=\"doc/sygma.html\">here</a>.\n"
     ]
    },
    {
     "cell_type": "heading",
     "level": 2,
     "metadata": {},
     "source": [
      "Results:"
     ]
    },
    {
     "cell_type": "markdown",
     "metadata": {},
     "source": [
      "For H only:\n",
      "\n",
      "$\\odot$ Different SFR input, two times one burst compared to two bursts with starburst variable\n",
      "\n",
      "$\\odot$ MW Settting: galaxy='milky_way'\n",
      "\n",
      "$\\odot$ MW Settting: galaxy='milky_way' with Maoz12\n"
     ]
    },
    {
     "cell_type": "code",
     "collapsed": false,
     "input": [
      "#from imp import *\n",
      "#s=load_source('sygma','/home/nugrid/nugrid/SYGMA/SYGMA_online/SYGMA_dev/sygma.py')\n",
      "import sygma as s\n",
      "reload(s)\n",
      "from scipy.integrate import quad\n",
      "from scipy.interpolate import UnivariateSpline\n",
      "#import mpld3\n",
      "#mpld3.enable_notebook()"
     ],
     "language": "python",
     "metadata": {},
     "outputs": [],
     "prompt_number": 22
    },
    {
     "cell_type": "heading",
     "level": 3,
     "metadata": {},
     "source": [
      "Only AGB and massive stars"
     ]
    },
    {
     "cell_type": "code",
     "collapsed": false,
     "input": [
      "#First star burst\n",
      "k_N=0.3*1e11*0.35/ (1**-0.35 - 30**-0.35) #(I)\n",
      "N_tot=k_N/1.35 * (1**-1.35 - 30**-1.35) #(II)\n",
      "Yield_tot1=0.1*N_tot\n",
      "print Yield_tot1/1e11"
     ],
     "language": "python",
     "metadata": {},
     "outputs": [
      {
       "output_type": "stream",
       "stream": "stdout",
       "text": [
        "0.0110631843892\n"
       ]
      }
     ],
     "prompt_number": 23
    },
    {
     "cell_type": "heading",
     "level": 3,
     "metadata": {},
     "source": [
      "Do 1 star burst with starbursts=[0.1]"
     ]
    },
    {
     "cell_type": "code",
     "collapsed": false,
     "input": [
      "ssp1=s.sygma(iolevel=0,dt=6e7,mgal=1e11,starbursts=[0.3],tend=13e9,special_timesteps=30,imf_type='salpeter',imf_bdys=[1,30],sn1a_on=False,hardsetZ=0.0001,iniZ=-1,table='yield_tables/isotope_yield_table_h1.txt', sn1a_table='yield_tables/sn1a_h1.txt', iniabu_table='yield_tables/iniabu/iniab1.0E-04GN93_alpha_h1.ppn')\n",
      "Yield_tot_sim1=ssp1.history.ism_elem_yield[-1][0]-(0.7*1e11)"
     ],
     "language": "python",
     "metadata": {},
     "outputs": [
      {
       "output_type": "stream",
       "stream": "stdout",
       "text": [
        "################    Start SYGMA simulation   ##############\n",
        "Use specified tables as input\n",
        "Note that table, sn1a_table iniabu_table and pop3_table have to be specified as an input\n",
        "/home/christian/NuGrid/SYGMA_PROJECT/SYGMA/yield_tables/popIII_heger10.txt"
       ]
      },
      {
       "output_type": "stream",
       "stream": "stdout",
       "text": [
        "\n",
        "correct for isotopes"
       ]
      },
      {
       "output_type": "stream",
       "stream": "stdout",
       "text": [
        "\n",
        "Use initial abundance of  yield_tables/iniabu/iniab1.0E-04GN93_alpha_h1.ppn\n",
        "################    Simulation successful    ##############"
       ]
      },
      {
       "output_type": "stream",
       "stream": "stdout",
       "text": [
        "\n",
        "Run time: 1.44s\n"
       ]
      }
     ],
     "prompt_number": 24
    },
    {
     "cell_type": "code",
     "collapsed": false,
     "input": [
      "#reduce ISM by not processed material to get only ejecta\n",
      "ism_after_burst=ssp1.history.ism_elem_yield[1][0]\n",
      "print Yield_tot_sim1/1e11\n",
      "print ssp1.history.sfr[:5]\n",
      "#print ism_after_burst/1e11\n",
      "#print Yield_tot_sim1/1e11\n",
      "#print ssp1.history.ism_elem_yield[1]\n",
      "#print ssp1.history.ism_elem_yield[-1]"
     ],
     "language": "python",
     "metadata": {},
     "outputs": [
      {
       "output_type": "stream",
       "stream": "stdout",
       "text": [
        "0.0110631843892\n",
        "[0.3, 0.0, 0.0, 0.0, 0.0]\n"
       ]
      }
     ],
     "prompt_number": 25
    },
    {
     "cell_type": "heading",
     "level": 3,
     "metadata": {},
     "source": [
      "Another starburst"
     ]
    },
    {
     "cell_type": "code",
     "collapsed": false,
     "input": [
      "ssp2=s.sygma(iolevel=0,dt=6e7,mgal=ism_after_burst,starbursts=[0.6],tend=13e9,special_timesteps=30,imf_type='salpeter',imf_bdys=[1,30],sn1a_on=False,hardsetZ=0.0001,iniZ=-1,table='yield_tables/isotope_yield_table_h1.txt', sn1a_table='yield_tables/sn1a_h1.txt', iniabu_table='yield_tables/iniabu/iniab1.0E-04GN93_alpha_h1.ppn')\n",
      "Yield_tot_sim2=ssp2.history.ism_iso_yield[-1][0]-0.4*ism_after_burst"
     ],
     "language": "python",
     "metadata": {},
     "outputs": [
      {
       "output_type": "stream",
       "stream": "stdout",
       "text": [
        "################    Start SYGMA simulation   ##############\n",
        "Use specified tables as input\n",
        "Note that table, sn1a_table iniabu_table and pop3_table have to be specified as an input\n",
        "/home/christian/NuGrid/SYGMA_PROJECT/SYGMA/yield_tables/popIII_heger10.txt"
       ]
      },
      {
       "output_type": "stream",
       "stream": "stdout",
       "text": [
        "\n",
        "correct for isotopes"
       ]
      },
      {
       "output_type": "stream",
       "stream": "stdout",
       "text": [
        "\n",
        "Use initial abundance of  yield_tables/iniabu/iniab1.0E-04GN93_alpha_h1.ppn\n",
        "################    Simulation successful    ##############"
       ]
      },
      {
       "output_type": "stream",
       "stream": "stdout",
       "text": [
        "\n",
        "Run time: 1.47s\n"
       ]
      }
     ],
     "prompt_number": 26
    },
    {
     "cell_type": "code",
     "collapsed": false,
     "input": [
      "ssp2.history.mgal/1e11,Yield_tot_sim2/1e11"
     ],
     "language": "python",
     "metadata": {},
     "outputs": [
      {
       "metadata": {},
       "output_type": "pyout",
       "prompt_number": 27,
       "text": [
        "(0.70092519382748564, 0.015508929324638404)"
       ]
      }
     ],
     "prompt_number": 27
    },
    {
     "cell_type": "code",
     "collapsed": false,
     "input": [
      "print 'Pristine gas after secodn burst:',0.4*ism_after_burst\n",
      "Yield_tot_comb=Yield_tot_sim2+Yield_tot_sim1\n",
      "print Yield_tot_comb/1e11"
     ],
     "language": "python",
     "metadata": {},
     "outputs": [
      {
       "output_type": "stream",
       "stream": "stdout",
       "text": [
        "Pristine gas after secodn burst: 28037007753.1\n",
        "0.0265721137138\n"
       ]
      }
     ],
     "prompt_number": 28
    },
    {
     "cell_type": "code",
     "collapsed": false,
     "input": [
      "#Second  star burst\n",
      "print 'ISM after first burst',ism_after_burst/1e11\n",
      "k_N=0.6*(ism_after_burst)*0.35/ (1**-0.35 - 30**-0.35) #(I)\n",
      "N_tot=k_N/1.35 * (1**-1.35 - 30**-1.35) #(II)\n",
      "Yield_tot2=0.1*N_tot\n",
      "print Yield_tot1/1e11,Yield_tot2/1e11\n",
      "Yield_tot=Yield_tot1+Yield_tot2"
     ],
     "language": "python",
     "metadata": {},
     "outputs": [
      {
       "output_type": "stream",
       "stream": "stdout",
       "text": [
        "ISM after first burst 0.700925193827\n",
        "0.0110631843892 0.0155089293246\n"
       ]
      }
     ],
     "prompt_number": 29
    },
    {
     "cell_type": "heading",
     "level": 3,
     "metadata": {},
     "source": [
      "Do two  star bursts at once"
     ]
    },
    {
     "cell_type": "code",
     "collapsed": false,
     "input": [
      "msp=s.sygma(iolevel=0,dt=6e7,mgal=1e11,starbursts=[0.3,0.6],tend=13e9,special_timesteps=30,imf_type='salpeter',imf_bdys=[1,30],sn1a_on=False,hardsetZ=0.0001,iniZ=-1,table='yield_tables/isotope_yield_table_h1.txt', sn1a_table='yield_tables/sn1a_h1.txt', iniabu_table='yield_tables/iniabu/iniab1.0E-04GN93_alpha_h1.ppn')\n",
      "Yield_tot_sim=msp.history.ism_iso_yield[-1][0] - (1e11 - msp.history.m_locked[0] - msp.history.m_locked[1])#-(1e11 -0.1*1e11-0.2*0.1*1e11)\n",
      "print Yield_tot_sim"
     ],
     "language": "python",
     "metadata": {},
     "outputs": [
      {
       "output_type": "stream",
       "stream": "stdout",
       "text": [
        "################    Start SYGMA simulation   ##############\n",
        "Use specified tables as input\n",
        "Note that table, sn1a_table iniabu_table and pop3_table have to be specified as an input\n",
        "/home/christian/NuGrid/SYGMA_PROJECT/SYGMA/yield_tables/popIII_heger10.txt"
       ]
      },
      {
       "output_type": "stream",
       "stream": "stdout",
       "text": [
        "\n",
        "correct for isotopes"
       ]
      },
      {
       "output_type": "stream",
       "stream": "stdout",
       "text": [
        "\n",
        "Use initial abundance of  yield_tables/iniabu/iniab1.0E-04GN93_alpha_h1.ppn\n",
        "################    Simulation successful    ##############"
       ]
      },
      {
       "output_type": "stream",
       "stream": "stdout",
       "text": [
        "\n",
        "Run time: 1.52s\n",
        "2657211371.38\n"
       ]
      }
     ],
     "prompt_number": 30
    },
    {
     "cell_type": "code",
     "collapsed": false,
     "input": [
      "print 'After second burst',(1e11 - msp.history.m_locked[0] - msp.history.m_locked[1])/1e11\n",
      "print msp.history.m_locked[0]/1e11,msp.history.m_locked[1]/1e11\n",
      "print msp.history.ism_iso_yield[-1][0]/1e11\n",
      "print msp.history.sfr[:5]\n",
      "print msp.history.m_locked"
     ],
     "language": "python",
     "metadata": {},
     "outputs": [
      {
       "output_type": "stream",
       "stream": "stdout",
       "text": [
        "After second burst 0.279444883704\n",
        "0.3 0.420555116296\n",
        "0.306016997417\n",
        "[0.3, 0.6, 0.0, 0.0, 0.0]\n",
        "[30000000000.0, 42055511629.649139, 0, 0, 0, 0, 0, 0, 0, 0, 0, 0, 0, 0, 0, 0, 0, 0, 0, 0, 0, 0, 0, 0, 0, 0, 0, 0, 0, 0]\n"
       ]
      }
     ],
     "prompt_number": 31
    },
    {
     "cell_type": "code",
     "collapsed": false,
     "input": [
      "print 'SSP combination',Yield_tot_comb/1e11\n",
      "print 'Sim',Yield_tot_sim/1e11\n",
      "print 'Ejecta from stars only with hand calc:',Yield_tot/1e11\n",
      "print 'Should be 1:',Yield_tot_comb/Yield_tot_sim\n",
      "print '##############################'\n",
      "print 'ratio should be 1 : ',Yield_tot_sim/Yield_tot\n",
      "print 'ratio should be 1 : ',Yield_tot_comb/Yield_tot"
     ],
     "language": "python",
     "metadata": {},
     "outputs": [
      {
       "output_type": "stream",
       "stream": "stdout",
       "text": [
        "SSP combination 0.0265721137138\n",
        "Sim 0.0265721137138\n",
        "Ejecta from stars only with hand calc: 0.0265721137138\n",
        "Should be 1: 1.0\n",
        "##############################\n",
        "ratio should be 1 :  1.0\n",
        "ratio should be 1 :  1.0\n"
       ]
      }
     ],
     "prompt_number": 32
    },
    {
     "cell_type": "heading",
     "level": 3,
     "metadata": {},
     "source": [
      "With SNIa"
     ]
    },
    {
     "cell_type": "code",
     "collapsed": false,
     "input": [
      "msp=s.sygma(iolevel=0,dt=6e7,mgal=1e11,starbursts=[0.1,0.2],tend=13e9,special_timesteps=30,imf_type='kroupa',imf_bdys=[0.1,100],sn1a_on=False,hardsetZ=0.0001,iniZ=-1,table='yield_tables/isotope_yield_table_h1.txt', sn1a_table='yield_tables/sn1a_h1.txt', iniabu_table='yield_tables/iniabu/iniab1.0E-04GN93_alpha_h1.ppn')\n",
      "Yield_tot_sim=msp.history.ism_iso_yield[-1][0]"
     ],
     "language": "python",
     "metadata": {},
     "outputs": [
      {
       "output_type": "stream",
       "stream": "stdout",
       "text": [
        "################    Start SYGMA simulation   ##############\n",
        "Use specified tables as input\n",
        "Note that table, sn1a_table iniabu_table and pop3_table have to be specified as an input\n",
        "/home/christian/NuGrid/SYGMA_PROJECT/SYGMA/yield_tables/popIII_heger10.txt"
       ]
      },
      {
       "output_type": "stream",
       "stream": "stdout",
       "text": [
        "\n",
        "correct for isotopes"
       ]
      },
      {
       "output_type": "stream",
       "stream": "stdout",
       "text": [
        "\n",
        "Use initial abundance of  yield_tables/iniabu/iniab1.0E-04GN93_alpha_h1.ppn\n",
        "################    Simulation successful    ##############"
       ]
      },
      {
       "output_type": "stream",
       "stream": "stdout",
       "text": [
        "\n",
        "Run time: 1.57s\n"
       ]
      }
     ],
     "prompt_number": 33
    },
    {
     "cell_type": "heading",
     "level": 2,
     "metadata": {},
     "source": [
      "Test the yield interpolation"
     ]
    },
    {
     "cell_type": "code",
     "collapsed": false,
     "input": [
      "import sygma as s;reload(s)\n",
      "msp=s.sygma(iolevel=0,iniZ=0.0001,dt=6e7,mgal=1e11,starbursts=[0.1,0.2],tend=13e9,special_timesteps=30,imf_type='kroupa',imf_bdys=[0.1,100],sn1a_on=False)"
     ],
     "language": "python",
     "metadata": {},
     "outputs": [
      {
       "output_type": "stream",
       "stream": "stdout",
       "text": [
        "################    Start SYGMA simulation   ##############\n",
        "correct for isotopes"
       ]
      },
      {
       "output_type": "stream",
       "stream": "stdout",
       "text": [
        "\n"
       ]
      },
      {
       "output_type": "stream",
       "stream": "stdout",
       "text": [
        "interpolation necessary between  0.001  and  0.006  with ISM Z  0.001323\n",
        "################    Simulation successful    ##############"
       ]
      },
      {
       "output_type": "stream",
       "stream": "stdout",
       "text": [
        "\n",
        "Run time: 3.18s\n"
       ]
      }
     ],
     "prompt_number": 34
    },
    {
     "cell_type": "code",
     "collapsed": false,
     "input": [
      "mw=s.sygma(iolevel=0,dt=6e7,mgal=1e11,tend=13e9,special_timesteps=30,imf_type='kroupa',imf_bdys=[0.1,100],sn1a_rate='maoz',galaxy='milky_way')"
     ],
     "language": "python",
     "metadata": {},
     "outputs": [
      {
       "output_type": "stream",
       "stream": "stdout",
       "text": [
        "################    Start SYGMA simulation   ##############\n",
        "correct for isotopes"
       ]
      },
      {
       "output_type": "stream",
       "stream": "stdout",
       "text": [
        "\n",
        "Use SNIa tables from yield_tables/sn1a_t86.txt"
       ]
      },
      {
       "output_type": "stream",
       "stream": "stdout",
       "text": [
        "\n"
       ]
      },
      {
       "output_type": "stream",
       "stream": "stdout",
       "text": [
        "interpolation necessary between  0.0001  and  0.001  with ISM Z  0.000204\n",
        "interpolation necessary between "
       ]
      },
      {
       "output_type": "stream",
       "stream": "stdout",
       "text": [
        " 0.0001  and  0.001  with ISM Z  0.000213\n",
        "interpolation necessary between "
       ]
      },
      {
       "output_type": "stream",
       "stream": "stdout",
       "text": [
        " 0.0001  and  0.001  with ISM Z  0.000238\n",
        "interpolation necessary between "
       ]
      },
      {
       "output_type": "stream",
       "stream": "stdout",
       "text": [
        " 0.0001  and  0.001  with ISM Z  0.000272\n",
        "interpolation necessary between "
       ]
      },
      {
       "output_type": "stream",
       "stream": "stdout",
       "text": [
        " 0.0001  and  0.001  with ISM Z  0.000311\n",
        "interpolation necessary between "
       ]
      },
      {
       "output_type": "stream",
       "stream": "stdout",
       "text": [
        " 0.0001  and  0.001  with ISM Z  0.000357\n",
        "interpolation necessary between "
       ]
      },
      {
       "output_type": "stream",
       "stream": "stdout",
       "text": [
        " 0.0001  and  0.001  with ISM Z  0.000415\n",
        "interpolation necessary between "
       ]
      },
      {
       "output_type": "stream",
       "stream": "stdout",
       "text": [
        " 0.0001  and  0.001  with ISM Z  0.000483\n",
        "interpolation necessary between "
       ]
      },
      {
       "output_type": "stream",
       "stream": "stdout",
       "text": [
        " 0.0001  and  0.001  with ISM Z  0.000562\n",
        "interpolation necessary between "
       ]
      },
      {
       "output_type": "stream",
       "stream": "stdout",
       "text": [
        " 0.0001  and  0.001  with ISM Z  0.000658\n",
        "interpolation necessary between "
       ]
      },
      {
       "output_type": "stream",
       "stream": "stdout",
       "text": [
        " 0.0001  and  0.001  with ISM Z  0.000774\n",
        "interpolation necessary between "
       ]
      },
      {
       "output_type": "stream",
       "stream": "stdout",
       "text": [
        " 0.0001  and  0.001  with ISM Z  0.000914\n",
        "interpolation necessary between "
       ]
      },
      {
       "output_type": "stream",
       "stream": "stdout",
       "text": [
        " 0.001  and  0.006  with ISM Z  0.001082\n",
        "interpolation necessary between "
       ]
      },
      {
       "output_type": "stream",
       "stream": "stdout",
       "text": [
        " 0.001  and  0.006  with ISM Z  0.00136\n",
        "interpolation necessary between "
       ]
      },
      {
       "output_type": "stream",
       "stream": "stdout",
       "text": [
        " 0.001  and  0.006  with ISM Z  0.001685\n",
        "interpolation necessary between "
       ]
      },
      {
       "output_type": "stream",
       "stream": "stdout",
       "text": [
        " 0.001  and  0.006  with ISM Z  0.002105\n",
        "interpolation necessary between "
       ]
      },
      {
       "output_type": "stream",
       "stream": "stdout",
       "text": [
        " 0.001  and  0.006  with ISM Z  0.002657\n",
        "interpolation necessary between "
       ]
      },
      {
       "output_type": "stream",
       "stream": "stdout",
       "text": [
        " 0.001  and  0.006  with ISM Z  0.003352\n",
        "interpolation necessary between "
       ]
      },
      {
       "output_type": "stream",
       "stream": "stdout",
       "text": [
        " 0.001  and  0.006  with ISM Z  0.004203\n",
        "interpolation necessary between "
       ]
      },
      {
       "output_type": "stream",
       "stream": "stdout",
       "text": [
        " 0.001  and  0.006  with ISM Z  0.005224\n",
        "interpolation necessary between "
       ]
      },
      {
       "output_type": "stream",
       "stream": "stdout",
       "text": [
        " 0.006  and  0.01  with ISM Z  0.006432\n",
        "interpolation necessary between "
       ]
      },
      {
       "output_type": "stream",
       "stream": "stdout",
       "text": [
        " 0.006  and  0.01  with ISM Z  0.008247\n",
        "interpolation necessary between "
       ]
      },
      {
       "output_type": "stream",
       "stream": "stdout",
       "text": [
        " 0.01  and  0.02  with ISM Z  0.010216\n",
        "interpolation necessary between "
       ]
      },
      {
       "output_type": "stream",
       "stream": "stdout",
       "text": [
        " 0.01  and  0.02  with ISM Z  0.012297\n",
        "interpolation necessary between "
       ]
      },
      {
       "output_type": "stream",
       "stream": "stdout",
       "text": [
        " 0.01  and  0.02  with ISM Z  0.014694\n",
        "interpolation necessary between "
       ]
      },
      {
       "output_type": "stream",
       "stream": "stdout",
       "text": [
        " 0.01  and  0.02  with ISM Z  0.01747\n",
        "################    Simulation successful    ##############"
       ]
      },
      {
       "output_type": "stream",
       "stream": "stdout",
       "text": [
        "\n",
        "Run time: 17.56s\n"
       ]
      }
     ],
     "prompt_number": 35
    },
    {
     "cell_type": "code",
     "collapsed": false,
     "input": [
      "reload(s)\n",
      "mw=s.sygma(yield_interpolate='ini_corr',iolevel=0,dt=6e7,mgal=1e11,tend=13e9,special_timesteps=30,imf_type='kroupa',imf_bdys=[0.1,100],sn1a_rate='maoz',galaxy='milky_way')"
     ],
     "language": "python",
     "metadata": {},
     "outputs": [
      {
       "output_type": "stream",
       "stream": "stdout",
       "text": [
        "################    Start SYGMA simulation   ##############\n",
        "correct for isotopes"
       ]
      },
      {
       "output_type": "stream",
       "stream": "stdout",
       "text": [
        "\n",
        "Use SNIa tables from yield_tables/sn1a_t86.txt"
       ]
      },
      {
       "output_type": "stream",
       "stream": "stdout",
       "text": [
        "\n"
       ]
      },
      {
       "output_type": "stream",
       "stream": "stdout",
       "text": [
        "correct initial abundace of input 0.0001  for ISM Z  0.000204\n",
        "correct initial abundace of input"
       ]
      },
      {
       "output_type": "stream",
       "stream": "stdout",
       "text": [
        " 0.0001  for ISM Z  0.000213\n",
        "correct initial abundace of input"
       ]
      },
      {
       "output_type": "stream",
       "stream": "stdout",
       "text": [
        " 0.0001  for ISM Z  0.000238\n",
        "correct initial abundace of input"
       ]
      },
      {
       "output_type": "stream",
       "stream": "stdout",
       "text": [
        " 0.0001  for ISM Z  0.000271\n",
        "correct initial abundace of input"
       ]
      },
      {
       "output_type": "stream",
       "stream": "stdout",
       "text": [
        " 0.0001  for ISM Z  0.00031\n",
        "correct initial abundace of input"
       ]
      },
      {
       "output_type": "stream",
       "stream": "stdout",
       "text": [
        " 0.0001  for ISM Z  0.000356\n",
        "correct initial abundace of input"
       ]
      },
      {
       "output_type": "stream",
       "stream": "stdout",
       "text": [
        " 0.0001  for ISM Z  0.000412\n",
        "correct initial abundace of input"
       ]
      },
      {
       "output_type": "stream",
       "stream": "stdout",
       "text": [
        " 0.0001  for ISM Z  0.000479\n",
        "correct initial abundace of input"
       ]
      },
      {
       "output_type": "stream",
       "stream": "stdout",
       "text": [
        " 0.0001  for ISM Z  0.000557\n",
        "correct initial abundace of input"
       ]
      },
      {
       "output_type": "stream",
       "stream": "stdout",
       "text": [
        " 0.0001  for ISM Z  0.00065\n",
        "correct initial abundace of input"
       ]
      },
      {
       "output_type": "stream",
       "stream": "stdout",
       "text": [
        " 0.0001  for ISM Z  0.000762\n",
        "correct initial abundace of input"
       ]
      },
      {
       "output_type": "stream",
       "stream": "stdout",
       "text": [
        " 0.0001  for ISM Z  0.000896\n",
        "correct initial abundace of input"
       ]
      },
      {
       "output_type": "stream",
       "stream": "stdout",
       "text": [
        " 0.001  for ISM Z  0.001057\n",
        "correct initial abundace of input"
       ]
      },
      {
       "output_type": "stream",
       "stream": "stdout",
       "text": [
        " 0.001  for ISM Z  0.001333\n",
        "correct initial abundace of input"
       ]
      },
      {
       "output_type": "stream",
       "stream": "stdout",
       "text": [
        " 0.001  for ISM Z  0.001661\n",
        "correct initial abundace of input"
       ]
      },
      {
       "output_type": "stream",
       "stream": "stdout",
       "text": [
        " 0.001  for ISM Z  0.00209\n",
        "correct initial abundace of input"
       ]
      },
      {
       "output_type": "stream",
       "stream": "stdout",
       "text": [
        " 0.001  for ISM Z  0.002661\n",
        "correct initial abundace of input"
       ]
      },
      {
       "output_type": "stream",
       "stream": "stdout",
       "text": [
        " 0.001  for ISM Z  0.00339\n",
        "correct initial abundace of input"
       ]
      },
      {
       "output_type": "stream",
       "stream": "stdout",
       "text": [
        " 0.001  for ISM Z  0.004296\n",
        "correct initial abundace of input"
       ]
      },
      {
       "output_type": "stream",
       "stream": "stdout",
       "text": [
        " 0.001  for ISM Z  0.005412\n",
        "correct initial abundace of input"
       ]
      },
      {
       "output_type": "stream",
       "stream": "stdout",
       "text": [
        " 0.006  for ISM Z  0.006778\n",
        "correct initial abundace of input"
       ]
      },
      {
       "output_type": "stream",
       "stream": "stdout",
       "text": [
        " 0.006  for ISM Z  0.008241\n",
        "correct initial abundace of input"
       ]
      },
      {
       "output_type": "stream",
       "stream": "stdout",
       "text": [
        " 0.006  for ISM Z  0.009946\n",
        "correct initial abundace of input"
       ]
      },
      {
       "output_type": "stream",
       "stream": "stdout",
       "text": [
        " 0.01  for ISM Z  0.011905\n",
        "correct initial abundace of input"
       ]
      },
      {
       "output_type": "stream",
       "stream": "stdout",
       "text": [
        " 0.01  for ISM Z  0.014354\n",
        "correct initial abundace of input"
       ]
      },
      {
       "output_type": "stream",
       "stream": "stdout",
       "text": [
        " 0.01  for ISM Z  0.017175\n",
        "################    Simulation successful    ##############"
       ]
      },
      {
       "output_type": "stream",
       "stream": "stdout",
       "text": [
        "\n",
        "Run time: 22.04s\n"
       ]
      }
     ],
     "prompt_number": 15
    },
    {
     "cell_type": "heading",
     "level": 1,
     "metadata": {},
     "source": [
      "Test of the galaxy='milky_way' setting"
     ]
    },
    {
     "cell_type": "code",
     "collapsed": false,
     "input": [
      "reload(s)\n",
      "mw=s.sygma(iolevel=0,dt=6e7,mgal=1e11,tend=13e9,special_timesteps=30,imf_type='kroupa',imf_bdys=[0.1,100],sn1a_rate='maoz',galaxy='milky_way',hardsetZ=0.0001,iniZ=-1,table='yield_tables/isotope_yield_table_h1.txt',sn1a_on=False, sn1a_table='yield_tables/sn1a_h1.txt', iniabu_table='yield_tables/iniabu/iniab1.0E-04GN93_alpha_h1.ppn')"
     ],
     "language": "python",
     "metadata": {},
     "outputs": [
      {
       "output_type": "stream",
       "stream": "stdout",
       "text": [
        "################    Start SYGMA simulation   ##############\n",
        "Use specified tables as input\n",
        "Note that table, sn1a_table iniabu_table and pop3_table have to be specified as an input\n",
        "/home/christian/NuGrid/SYGMA_PROJECT/SYGMA/yield_tables/popIII_heger10.txt"
       ]
      },
      {
       "output_type": "stream",
       "stream": "stdout",
       "text": [
        "\n",
        "correct for isotopes"
       ]
      },
      {
       "output_type": "stream",
       "stream": "stdout",
       "text": [
        "\n",
        "Use initial abundance of  yield_tables/iniabu/iniab1.0E-04GN93_alpha_h1.ppn\n",
        "################    Simulation successful    ##############"
       ]
      },
      {
       "output_type": "stream",
       "stream": "stdout",
       "text": [
        "\n",
        "Run time: 3.03s\n"
       ]
      }
     ],
     "prompt_number": 16
    },
    {
     "cell_type": "code",
     "collapsed": false,
     "input": [
      "mw=s.sygma(iolevel=0,dt=6e7,mgal=1e11,tend=13e9,special_timesteps=30,imf_type='kroupa',imf_bdys=[0.1,100],sn1a_rate='maoz',galaxy='milky_way',hardsetZ=0.0001,iniZ=-1,table='yield_tables/isotope_yield_table_h1.txt',sn1a_on=False, sn1a_table='yield_tables/sn1a_h1.txt', iniabu_table='yield_tables/iniabu/iniab1.0E-04GN93_alpha_h1.ppn')"
     ],
     "language": "python",
     "metadata": {},
     "outputs": [
      {
       "output_type": "stream",
       "stream": "stdout",
       "text": [
        "################    Start SYGMA simulation   ##############\n",
        "Use specified tables as input\n",
        "Note that table, sn1a_table iniabu_table and pop3_table have to be specified as an input\n",
        "/home/christian/NuGrid/SYGMA_PROJECT/SYGMA/yield_tables/popIII_heger10.txt"
       ]
      },
      {
       "output_type": "stream",
       "stream": "stdout",
       "text": [
        "\n",
        "correct for isotopes"
       ]
      },
      {
       "output_type": "stream",
       "stream": "stdout",
       "text": [
        "\n",
        "Use initial abundance of  yield_tables/iniabu/iniab1.0E-04GN93_alpha_h1.ppn\n",
        "################    Simulation successful    ##############"
       ]
      },
      {
       "output_type": "stream",
       "stream": "stdout",
       "text": [
        "\n",
        "Run time: 2.87s\n"
       ]
      }
     ],
     "prompt_number": 17
    },
    {
     "cell_type": "heading",
     "level": 3,
     "metadata": {},
     "source": [
      "With SNIa Maoz"
     ]
    },
    {
     "cell_type": "code",
     "collapsed": false,
     "input": [
      "import sygma as s;reload(s)\n",
      "mw=s.sygma(iolevel=0,dt=6e7,mgal=1e11,tend=13e9,special_timesteps=30,imf_type='kroupa',imf_bdys=[0.1,100],sn1a_rate='maoz',galaxy='milky_way',hardsetZ=0.0001,iniZ=-1,table='yield_tables/isotope_yield_table_h1.txt',sn1a_on=True, sn1a_table='yield_tables/sn1a_h1.txt', iniabu_table='yield_tables/iniabu/iniab1.0E-04GN93_alpha_h1.ppn')"
     ],
     "language": "python",
     "metadata": {},
     "outputs": [
      {
       "output_type": "stream",
       "stream": "stdout",
       "text": [
        "################    Start SYGMA simulation   ##############\n",
        "Use specified tables as input\n",
        "Note that table, sn1a_table iniabu_table and pop3_table have to be specified as an input\n",
        "/home/christian/NuGrid/SYGMA_PROJECT/SYGMA/yield_tables/popIII_heger10.txt"
       ]
      },
      {
       "output_type": "stream",
       "stream": "stdout",
       "text": [
        "\n",
        "correct for isotopes"
       ]
      },
      {
       "output_type": "stream",
       "stream": "stdout",
       "text": [
        "\n",
        "Use SNIa tables from yield_tables/sn1a_h1.txt\n",
        "Use initial abundance of  yield_tables/iniabu/iniab1.0E-04GN93_alpha_h1.ppn\n",
        "################    Simulation successful    ##############"
       ]
      },
      {
       "output_type": "stream",
       "stream": "stdout",
       "text": [
        "\n",
        "Run time: 16.5s\n"
       ]
      }
     ],
     "prompt_number": 18
    },
    {
     "cell_type": "heading",
     "level": 3,
     "metadata": {},
     "source": [
      "With default mode; composition"
     ]
    },
    {
     "cell_type": "code",
     "collapsed": false,
     "input": [
      "mw=s.sygma(iolevel=0,dt=6e7,mgal=1e11,tend=13e9,special_timesteps=30,imf_type='kroupa',imf_bdys=[0.1,100],sn1a_rate='maoz',galaxy='milky_way',hardsetZ=0.0001,iniZ=0.0001)"
     ],
     "language": "python",
     "metadata": {},
     "outputs": [
      {
       "output_type": "stream",
       "stream": "stdout",
       "text": [
        "################    Start SYGMA simulation   ##############\n",
        "correct for isotopes"
       ]
      },
      {
       "output_type": "stream",
       "stream": "stdout",
       "text": [
        "\n",
        "Use SNIa tables from yield_tables/sn1a_t86.txt"
       ]
      },
      {
       "output_type": "stream",
       "stream": "stdout",
       "text": [
        "\n"
       ]
      },
      {
       "output_type": "stream",
       "stream": "stdout",
       "text": [
        "################    Simulation successful    ##############\n",
        "Run time: 17.82s\n"
       ]
      }
     ],
     "prompt_number": 19
    },
    {
     "cell_type": "code",
     "collapsed": false,
     "input": [],
     "language": "python",
     "metadata": {},
     "outputs": [],
     "prompt_number": 19
    }
   ],
   "metadata": {}
  }
 ]
}