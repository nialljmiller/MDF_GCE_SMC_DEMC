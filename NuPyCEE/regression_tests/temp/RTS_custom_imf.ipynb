{
 "cells": [
  {
   "cell_type": "markdown",
   "metadata": {},
   "source": [
    "# Introduction to SYGMA parameter"
   ]
  },
  {
   "cell_type": "markdown",
   "metadata": {},
   "source": [
    "\n",
    "Tips at the beginning:\n",
    "\n",
    "$\\odot$ You can find the documentation <a href=\"DOC/sygma.html\">here</a>.\n",
    "\n",
    "$\\odot$ To start again and remove all output:  Cell > All output > Clear\n",
    " \n",
    " $\\odot$ To move between cells the up and down arrows are conventient.\n",
    "\n",
    "$\\odot$ The empty circle in the menu bar on the right fills when the program is busy.\n",
    "\n",
    "\n",
    "\n",
    " "
   ]
  },
  {
   "cell_type": "code",
   "execution_count": 1,
   "metadata": {
    "collapsed": false
   },
   "outputs": [
    {
     "name": "stderr",
     "output_type": "stream",
     "text": [
      "/home/christian/test/ipython/IPython/kernel/__init__.py:10: UserWarning: The `IPython.kernel` package has been deprecated. You should import from ipython_kernel or jupyter_client instead.\n",
      "  warn(\"The `IPython.kernel` package has been deprecated. \"\n"
     ]
    },
    {
     "data": {
      "text/plain": [
       "<module 'sygma' from '/home/christian/NuGrid/SYGMA_PROJECT/GCE/OMEGA_SYGMA_New/sygma.pyc'>"
      ]
     },
     "execution_count": 1,
     "metadata": {},
     "output_type": "execute_result"
    }
   ],
   "source": [
    "import matplotlib\n",
    "matplotlib.use('nbagg')\n",
    "import matplotlib.pyplot as plt\n",
    "#matplotlib.use('nbagg')\n",
    "import numpy as np\n",
    "%matplotlib inline\n",
    "import sygma as s\n",
    "reload(s)\n"
   ]
  },
  {
   "cell_type": "markdown",
   "metadata": {},
   "source": [
    "HELLO art the simulation by creating an instance of the class 'sygma'. YOur will start the evlution of a SSP with an Salpeter IMF of the mass range betwen $1$ and $30M_{\\odot}$ and initial metallicty of $Z=0.0001$. When reaching $1.5*10^{10}$ years the code stops. Do this with the folowing command. For a full list of input parameter see the documentation. (Use shift + enter to execte the cell.)"
   ]
  },
  {
   "cell_type": "code",
   "execution_count": 2,
   "metadata": {
    "collapsed": false
   },
   "outputs": [],
   "source": [
    "#import mpld3\n",
    "#mpld3.enable_notebook()"
   ]
  },
  {
   "cell_type": "code",
   "execution_count": 3,
   "metadata": {
    "collapsed": false
   },
   "outputs": [
    {
     "name": "stdout",
     "output_type": "stream",
     "text": [
      "0.0368772812972\n"
     ]
    }
   ],
   "source": [
    "k_N=1e11*0.35/ (1**-0.35 - 30**-0.35) #(I)\n",
    "N_tot=k_N/1.35 * (1**-1.35 - 30**-1.35) #(II)\n",
    "Yield_tot=0.1*N_tot\n",
    "print Yield_tot/1e11"
   ]
  },
  {
   "cell_type": "markdown",
   "metadata": {},
   "source": [
    "### 2.1) Test with custom ifm being salpeter imf m**-2.35"
   ]
  },
  {
   "cell_type": "code",
   "execution_count": 10,
   "metadata": {
    "collapsed": false
   },
   "outputs": [
    {
     "name": "stdout",
     "output_type": "stream",
     "text": [
      "SYGMA run in progress..\n",
      "   SYGMA run completed - Run time: 0.17s\n",
      "SYGMA run in progress..\n",
      "   SYGMA run completed - Run time: 0.17s\n"
     ]
    }
   ],
   "source": [
    "s1=s.sygma(iolevel=0,mgal=1e11,dt=1e7,tend=1.3e10,imf_type='salpeter',alphaimf=2.35,imf_bdys=[1,30],iniZ=0.02,hardsetZ=0.0001,\\\n",
    "           table='yield_tables/isotope_yield_table_h1.txt',sn1a_on=False, sn1a_table='yield_tables/sn1a_h1.txt', \\\n",
    "           iniabu_table='yield_tables/iniabu/iniab1.0E-04GN93_alpha_h1.ppn')\n",
    "s2=s.sygma(iolevel=0,mgal=1e11,dt=1e7,tend=1.3e10,imf_type='input',imf_bdys=[1,30],iniZ=0.02,hardsetZ=0.0001,\\\n",
    "           table='yield_tables/isotope_yield_table_h1.txt',sn1a_on=False, sn1a_table='yield_tables/sn1a_h1.txt', \\\n",
    "           iniabu_table='yield_tables/iniabu/iniab1.0E-04GN93_alpha_h1.ppn')"
   ]
  },
  {
   "cell_type": "code",
   "execution_count": 11,
   "metadata": {
    "collapsed": false
   },
   "outputs": [
    {
     "data": {
      "image/png": "[encoded data removed]",
      "text/plain": [
       "<matplotlib.figure.Figure at 0xafe7e50c>"
      ]
     },
     "metadata": {},
     "output_type": "display_data"
    }
   ],
   "source": [
    "s1.plot_totmasses(fig=3,mass='gas',source='all',norm='no',color='k',marker='x',shape=':',markevery=20,label='s')\n",
    "s2.plot_totmasses(fig=3,mass='gas',source='all',norm='no',color='g',marker='o',shape='--',markevery=20,label='-2.35 custom')\n",
    "plt.show()"
   ]
  },
  {
   "cell_type": "markdown",
   "metadata": {},
   "source": [
    "### 2.1) Test with custom ifm being salpeter imf m**-1.5"
   ]
  },
  {
   "cell_type": "code",
   "execution_count": 2,
   "metadata": {
    "collapsed": false
   },
   "outputs": [
    {
     "name": "stdout",
     "output_type": "stream",
     "text": [
      "SYGMA run in progress..\n",
      "   SYGMA run completed - Run time: 0.16s\n",
      "SYGMA run in progress..\n",
      "   SYGMA run completed - Run time: 0.18s\n"
     ]
    }
   ],
   "source": [
    "s1=s.sygma(iolevel=0,mgal=1e11,dt=1e7,tend=1.3e10,imf_type='alphaimf',alphaimf=1.5,imf_bdys=[1,30],iniZ=0.02,hardsetZ=0.0001,\\\n",
    "           table='yield_tables/isotope_yield_table_h1.txt',sn1a_on=False, sn1a_table='yield_tables/sn1a_h1.txt', \\\n",
    "           iniabu_table='yield_tables/iniabu/iniab1.0E-04GN93_alpha_h1.ppn')\n",
    "s2=s.sygma(iolevel=0,mgal=1e11,dt=1e7,tend=1.3e10,imf_type='input',imf_bdys=[1,30],iniZ=0.02,hardsetZ=0.0001,\\\n",
    "           table='yield_tables/isotope_yield_table_h1.txt',sn1a_on=False, sn1a_table='yield_tables/sn1a_h1.txt', \\\n",
    "           iniabu_table='yield_tables/iniabu/iniab1.0E-04GN93_alpha_h1.ppn')"
   ]
  },
  {
   "cell_type": "markdown",
   "metadata": {},
   "source": [
    "### 2.1) Test with custom ifm being kroupa imf"
   ]
  },
  {
   "cell_type": "code",
   "execution_count": 8,
   "metadata": {
    "collapsed": false
   },
   "outputs": [
    {
     "name": "stdout",
     "output_type": "stream",
     "text": [
      "SYGMA run in progress..\n",
      "   SYGMA run completed - Run time: 0.16s\n",
      "SYGMA run in progress..\n",
      "   SYGMA run completed - Run time: 0.2s\n"
     ]
    }
   ],
   "source": [
    "s1=s.sygma(iolevel=0,mgal=1e11,dt=1e7,tend=1.3e10,imf_type='kroupa',alphaimf=1.5,imf_bdys=[1,30],iniZ=0.02,hardsetZ=0.0001,\\\n",
    "           table='yield_tables/isotope_yield_table_h1.txt',sn1a_on=False, sn1a_table='yield_tables/sn1a_h1.txt', \\\n",
    "           iniabu_table='yield_tables/iniabu/iniab1.0E-04GN93_alpha_h1.ppn')\n",
    "s2=s.sygma(iolevel=0,mgal=1e11,dt=1e7,tend=1.3e10,imf_type='input',imf_bdys=[1,30],iniZ=0.02,hardsetZ=0.0001,\\\n",
    "           table='yield_tables/isotope_yield_table_h1.txt',sn1a_on=False, sn1a_table='yield_tables/sn1a_h1.txt', \\\n",
    "           iniabu_table='yield_tables/iniabu/iniab1.0E-04GN93_alpha_h1.ppn')"
   ]
  },
  {
   "cell_type": "code",
   "execution_count": 9,
   "metadata": {
    "collapsed": false
   },
   "outputs": [
    {
     "data": {
      "image/png": "[encoded data removed]",
      "text/plain": [
       "<matplotlib.figure.Figure at 0xafef05ec>"
      ]
     },
     "metadata": {},
     "output_type": "display_data"
    }
   ],
   "source": [
    "s1.plot_totmasses(fig=2,mass='gas',source='all',norm='no',color='k',marker='x',shape=':',markevery=20,label='default kroupa')\n",
    "s2.plot_totmasses(fig=2,mass='gas',source='all',norm='no',color='g',marker='o',shape='--',markevery=20,label='kroupa custom')\n",
    "plt.show()"
   ]
  },
  {
   "cell_type": "markdown",
   "metadata": {},
   "source": [
    "        #Salpeter IMF\n",
    "        #return mass**-1.5\n",
    "        #return mass**-2.35\n",
    "        p0 = 1.0\n",
    "        p1 = 0.08**(-0.3 + 1.3)\n",
    "        p2 = 0.5**(-1.3 + 2.3)\n",
    "        p3 = 1**(-2.3 +2.3)\n",
    "        if mass < 0.08:\n",
    "            return p0 * mass**(-0.3)\n",
    "        elif mass < 0.5:\n",
    "            return p1 * mass**(-1.3)\n",
    "        else:\n",
    "            return p1 * p2 * mass**(-2.3)\n"
   ]
  },
  {
   "cell_type": "code",
   "execution_count": null,
   "metadata": {
    "collapsed": true
   },
   "outputs": [],
   "source": []
  }
 ],
 "metadata": {
  "kernelspec": {
   "display_name": "Python 2",
   "language": "python",
   "name": "python2"
  },
  "language_info": {
   "codemirror_mode": {
    "name": "ipython",
    "version": 2
   },
   "file_extension": ".py",
   "mimetype": "text/x-python",
   "name": "python",
   "nbconvert_exporter": "python",
   "pygments_lexer": "ipython2",
   "version": "2.7.8"
  }
 },
 "nbformat": 4,
 "nbformat_minor": 0
}
