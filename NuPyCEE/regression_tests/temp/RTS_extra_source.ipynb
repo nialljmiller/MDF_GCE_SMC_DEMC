{
 "metadata": {
  "name": "",
  "signature": "sha256:bb0350b38e0defeeafe65d978ba264fc6f8230cb2d12179b2e47565c100a0e43"
 },
 "nbformat": 3,
 "nbformat_minor": 0,
 "worksheets": [
  {
   "cells": [
    {
     "cell_type": "heading",
     "level": 1,
     "metadata": {},
     "source": [
      "Test of an extra source for massive stars (e.g. r process)"
     ]
    },
    {
     "cell_type": "markdown",
     "metadata": {},
     "source": [
      "Test extra source for massive stars which is the the only source producing Ni-56.\n",
      "Test of SSP with artificial yields of C,N,O,Ni yields provided in tables.\n",
      "You can find the documentation <a href=\"doc/sygma.html\">here</a>.\n",
      " "
     ]
    },
    {
     "cell_type": "markdown",
     "metadata": {},
     "source": [
      "$\\odot$ Evolution of ISM fine\n"
     ]
    },
    {
     "cell_type": "code",
     "collapsed": false,
     "input": [
      "import sygma as s\n",
      "reload(s)"
     ],
     "language": "python",
     "metadata": {},
     "outputs": [
      {
       "metadata": {},
       "output_type": "pyout",
       "prompt_number": 3,
       "text": [
        "<module 'sygma' from '/home/christian/NuGrid/SYGMA_PROJECT/SYGMA/sygma.py'>"
       ]
      }
     ],
     "prompt_number": 3
    },
    {
     "cell_type": "markdown",
     "metadata": {},
     "source": [
      "Start the simulation by creating an instance of the class 'sygma'. YOur will start the evlution of a SSP with an Salpeter IMF of the mass range betwen $1$ and $30M_{\\odot}$ and initial metallicty of $Z=0.0001$. When reaching $1.5*10^{10}$ years the code stops. Do this with the folowing command. For a full list of input parameter see the documentation. (Use shift + enter to execte the cell.)"
     ]
    },
    {
     "cell_type": "heading",
     "level": 2,
     "metadata": {},
     "source": [
      "With CNONI - Ni coming only from the extra source (sn1a deactivated)"
     ]
    },
    {
     "cell_type": "code",
     "collapsed": false,
     "input": [
      "s1=s.sygma(iolevel=0,mgal=1e11,dt=1e6,transitionmass=8,tend=1.5e10,imf_type='salpeter',alphaimf=2.35,imf_bdys=[1,30],iniZ=-1,\\\n",
      "           table='yield_tables/isotope_yield_table_cnoni.txt',sn1a_on=False,sn1a_table='yield_tables/sn1a_cnoni.txt', \\\n",
      "           iniabu_table='yield_tables/iniabu/iniab1.0E-04GN93_alpha_cnoni.ppn',\\\n",
      "           extra_source_on=True,extra_source_table='yield_tables/extra_source_cnoni.txt')"
     ],
     "language": "python",
     "metadata": {},
     "outputs": [
      {
       "output_type": "stream",
       "stream": "stdout",
       "text": [
        "Use specified tables as input\n",
        "Note that table, sn1a_table and iniabu_table have to be specified as an input\n",
        "Use yield tables: \n",
        "yield_tables/isotope_yield_table_cnoni.txt\n",
        "yield_tables/sn1a_cnoni.txt\n",
        "Use initial abundance of "
       ]
      },
      {
       "output_type": "stream",
       "stream": "stdout",
       "text": [
        " yield_tables/iniabu/iniab1.0E-04GN93_alpha_cnoni.ppn\n",
        "################    Start SYGMA simulation   ##############\n",
        "START SFRMDOT Run time: 1.18s\n",
        "Going into non-default yield mode: artificial to zmetal=0.0001\n",
        "star grid [1.0, 1.65, 2.0, 3.0, 4.0, 5.0, 6.0, 7.0, 12.0, 15.0, 20.0, 25.0]\n",
        "all yields [[0.1, 0.0, 0.0, 0.0], [0.1, 0.0, 0.0, 0.0], [0.1, 0.0, 0.0, 0.0], [0.1, 0.0, 0.0, 0.0], [0.0, 0.1, 0.0, 0.0], [0.0, 0.1, 0.0, 0.0], [0.0, 0.1, 0.0, 0.0], [0.0, 0.1, 0.0, 0.0], [0.0, 0.0, 0.1, 0.0], [0.0, 0.0, 0.1, 0.0], [0.0, 0.0, 0.1, 0.0], [0.0, 0.0, 0.1, 0.0]]\n",
        "END SFRMDOT"
       ]
      },
      {
       "output_type": "stream",
       "stream": "stdout",
       "text": [
        " Run time: 1.48s\n",
        "################    Simulation successful    ##############"
       ]
      },
      {
       "output_type": "stream",
       "stream": "stdout",
       "text": [
        "\n",
        "Run time: 2.57s\n"
       ]
      }
     ],
     "prompt_number": 16
    },
    {
     "cell_type": "code",
     "collapsed": false,
     "input": [
      "Yield_extra_source_sim=s1.history.ism_iso_yield[-1][3]\n",
      "s1.history.isotopes"
     ],
     "language": "python",
     "metadata": {},
     "outputs": [
      {
       "metadata": {},
       "output_type": "pyout",
       "prompt_number": 22,
       "text": [
        "['C-12', 'N-14', 'O-16', 'Ni-58']"
       ]
      }
     ],
     "prompt_number": 22
    },
    {
     "cell_type": "heading",
     "level": 4,
     "metadata": {},
     "source": [
      "Check final yields"
     ]
    },
    {
     "cell_type": "code",
     "collapsed": false,
     "input": [
      "k_N=1e11*0.35/ (1**-0.35 - 30**-0.35)\n",
      "N_massive=k_N/1.35 * (8.**-1.35 - 30**-1.35) #number of stars\n",
      "Yield_extra_source=0.1*N_massive #each star ejects an extra amount of material of Ni-58\n"
     ],
     "language": "python",
     "metadata": {},
     "outputs": [],
     "prompt_number": 23
    },
    {
     "cell_type": "code",
     "collapsed": false,
     "input": [
      "print 'Should be 1: ',Yield_extra_source_sim/Yield_extra_source"
     ],
     "language": "python",
     "metadata": {},
     "outputs": [
      {
       "output_type": "stream",
       "stream": "stdout",
       "text": [
        "Should be 1:  1.0\n"
       ]
      }
     ],
     "prompt_number": 25
    },
    {
     "cell_type": "heading",
     "level": 4,
     "metadata": {},
     "source": [
      "Check evolution"
     ]
    },
    {
     "cell_type": "code",
     "collapsed": false,
     "input": [
      "s1.plot_mass(specie='Ni',label='Ni',color='g',shape='-',marker='o',markevery=800)\n",
      "m=[1,1.65,2,3,4,5,6,7,12,15,20,25]\n",
      "ages=[5.67e9,1.211e9,6.972e8,2.471e8,1.347e8,8.123e7,5.642e7,4.217e7,1.892e7,1.381e7,9.895e6,7.902e6] #0.0001 lifetiems\n",
      "def yields(min1,max1,k_N):\n",
      "    return ( k_N/1.35 * (min1**-1.35 - max1**-1.35) ) * 0.1\n",
      "yields1_extra_sim=[]\n",
      "age_extra=[]\n",
      "for m1 in m:\n",
      "    idx=m.index(m1)\n",
      "    #print m1,idx\n",
      "    if m1>=8 and m1<=30:\n",
      "        yields1_extra_sim.append(yields(m1,30,k_N))\n",
      "        age_extra.append(ages[idx])\n",
      "plt.plot(age_extra,yields1_extra_sim,marker='+',color='g',linestyle='',markersize=30,label='Ni*')\n",
      "plt.legend()"
     ],
     "language": "python",
     "metadata": {},
     "outputs": [
      {
       "metadata": {},
       "output_type": "pyout",
       "prompt_number": 30,
       "text": [
        "<matplotlib.legend.Legend at 0xaff34d8c>"
       ]
      },
      {
       "metadata": {},
       "output_type": "display_data",
       "png": "[encoded data removed]",
       "text": [
        "<matplotlib.figure.Figure at 0xaff34b8c>"
       ]
      }
     ],
     "prompt_number": 30
    },
    {
     "cell_type": "code",
     "collapsed": false,
     "input": [],
     "language": "python",
     "metadata": {},
     "outputs": []
    }
   ],
   "metadata": {}
  }
 ]
}